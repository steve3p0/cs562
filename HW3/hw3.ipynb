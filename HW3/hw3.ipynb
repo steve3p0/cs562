{
 "cells": [
  {
   "cell_type": "markdown",
   "metadata": {},
   "source": [
    "# Homework 3: RNNs\n",
    "\n",
    "In this assignment, you will use PyTorch and RNNs to solve two NLP problems:\n",
    "\n",
    "1. Language identification\n",
    "2. Language modeling\n",
    "\n",
    "In the first, you will train a classifier to distinguish between English and Spanish sentences, and will essentially be creating a working version of the classifier demonstrated at the end of the PyTorch walkthrough from week 3's lecture. In the second you will train a neural language model to generate new British place names. For the second part, you will find Chapter 17 of the Goldberg text to be a useful reference.\n",
    "\n",
    "**Note:** The networks that you will be training in this assignment are relatively simple, and the amounts of data are relatively small. That said, _**they will take time to train**_. On my laptop, the various networks take on the order of ≈5 minutes to train. Make sure not to wait until the last minute to do this assignment, as you will need to do a fair bit of experimentation and tinkering, and you won't want to find yourself running out of time."
   ]
  },
  {
   "cell_type": "markdown",
   "metadata": {},
   "source": [
    "## Part 0: Setup\n",
    "\n",
    "In addition to Jupyter and `nose`, you will need to have `pytorch`, `numpy`, `pandas`, and Scikit-Learn installed for this assignment. As in HW2, most of your actual coding will take place in the `hw3_utils` module, and we will use unit tests to verify that things are working appropriately."
   ]
  },
  {
   "cell_type": "code",
   "execution_count": 1,
   "metadata": {},
   "outputs": [],
   "source": [
    "import nose\n",
    "import torch\n",
    "import pandas as pd\n",
    "import numpy as np\n",
    "import sklearn\n",
    "import matplotlib\n",
    "import matplotlib.pyplot as plt\n",
    "%matplotlib inline\n",
    "\n",
    "import sys\n",
    "from importlib import reload"
   ]
  },
  {
   "cell_type": "markdown",
   "metadata": {},
   "source": [
    "One other important thing to do is to set the random number generation seed. This will ensure deterministic results: each time you re-run the notebook, you should get the same random numbers. This is vital for ensuring reproducible results."
   ]
  },
  {
   "cell_type": "code",
   "execution_count": 2,
   "metadata": {},
   "outputs": [],
   "source": [
    "np.random.seed(42);\n",
    "torch.manual_seed(42);"
   ]
  },
  {
   "cell_type": "markdown",
   "metadata": {},
   "source": [
    "As before, let's check and see what versions of the libraries you've got installed:"
   ]
  },
  {
   "cell_type": "code",
   "execution_count": 3,
   "metadata": {
    "scrolled": true
   },
   "outputs": [
    {
     "name": "stdout",
     "output_type": "stream",
     "text": [
      "My library versions:\n",
      "PyTorch: 1.0.1\n",
      "Pandas: 0.24.1\n",
      "Numpy: 1.16.1\n",
      "matplotlib: 3.0.2\n",
      "nose: 1.3.7\n",
      "sklearn: 0.20.2\n"
     ]
    }
   ],
   "source": [
    "print(\"My library versions:\")\n",
    "print(f\"PyTorch: {torch.__version__}\")\n",
    "print(f\"Pandas: {pd.__version__}\")\n",
    "print(f\"Numpy: {np.__version__}\")\n",
    "print(f\"matplotlib: {matplotlib.__version__}\")\n",
    "print(f\"nose: {nose.__version__}\")\n",
    "print(f\"sklearn: {sklearn.__version__}\")"
   ]
  },
  {
   "cell_type": "markdown",
   "metadata": {},
   "source": [
    "And we can run our tests as before:"
   ]
  },
  {
   "cell_type": "code",
   "execution_count": 4,
   "metadata": {
    "scrolled": false
   },
   "outputs": [
    {
     "name": "stderr",
     "output_type": "stream",
     "text": [
      ".\n",
      "----------------------------------------------------------------------\n",
      "Ran 1 test in 0.001s\n",
      "\n",
      "OK\n"
     ]
    }
   ],
   "source": [
    "! nosetests tests/test_environment.py"
   ]
  },
  {
   "cell_type": "markdown",
   "metadata": {},
   "source": [
    "## Part 1: Preprocessing\n",
    "\n",
    "### Vocabulary construction\n",
    "\n",
    "As in the last part of HW2, we will be representing our input as numeric vectors. As such, we need a way to map tokens (characters, in the case of this assignment) to numeric indices. `hw3_utils.vocab` will contain functions to do this sort of transformation. The first such function will be `build_vocab`, and will take as input a corpus of sentences and as output produce mapping dictionaries. `vocab` includes special `BOS_SYM` and `EOS_SYM` symbols, to represent the beginning and end of string, respectively- make sure that the vocabularies that your implementation builds includes these characters.\n",
    "\n",
    "* **Deliverable 1.1:** Complete the `vocab.build_vocab()` function\n",
    "* **Test:** `nosetests tests/test_vocab.py:test_d1_1_char_vocab`\n",
    "\n",
    "_Hint_: Remember that you can split a string into its sequence of characters using the `list` function. For _this_ assignment, you may ignore issues of Unicode decomposition and normalization, but in \"real life\" you would absolutely need to worry about such things!"
   ]
  },
  {
   "cell_type": "code",
   "execution_count": 5,
   "metadata": {},
   "outputs": [],
   "source": [
    "from hw3_utils import vocab\n",
    "reload(vocab);"
   ]
  },
  {
   "cell_type": "code",
   "execution_count": 6,
   "metadata": {},
   "outputs": [],
   "source": [
    "tiny_corpus = [\"This is a sentence.\", \"This is another sentence.\", \"Here is a third.\"]\n",
    "c2i, i2c = vocab.build_vocab(tiny_corpus)"
   ]
  },
  {
   "cell_type": "code",
   "execution_count": 7,
   "metadata": {},
   "outputs": [
    {
     "data": {
      "text/plain": [
       "True"
      ]
     },
     "execution_count": 7,
     "metadata": {},
     "output_type": "execute_result"
    }
   ],
   "source": [
    "\"T\" == i2c[c2i[\"T\"]]"
   ]
  },
  {
   "cell_type": "code",
   "execution_count": 8,
   "metadata": {},
   "outputs": [
    {
     "name": "stderr",
     "output_type": "stream",
     "text": [
      ".\n",
      "----------------------------------------------------------------------\n",
      "Ran 1 test in 0.000s\n",
      "\n",
      "OK\n"
     ]
    }
   ],
   "source": [
    "!nosetests tests/test_vocab.py:test_d1_1_char_vocab"
   ]
  },
  {
   "cell_type": "markdown",
   "metadata": {},
   "source": [
    "### Sentence representation\n",
    "\n",
    "In addition to a character inventory, we'll need a way to convert a sentence into a list of indicies. Ordinarily, one would need to worry about how to handle missing vocabulary entries (i.e., OOV words or symbols); _for this assignment_, we are ignoring this problem.\n",
    "\n",
    "* **Deliverable 1.2:** Complete the `vocab.sentence_to_vector()` function\n",
    "* **Test:** `nosetests tests/test_vocab.py:test_d1_2_sentence_vector`"
   ]
  },
  {
   "cell_type": "code",
   "execution_count": 9,
   "metadata": {},
   "outputs": [],
   "source": [
    "reload(vocab);"
   ]
  },
  {
   "cell_type": "code",
   "execution_count": 10,
   "metadata": {},
   "outputs": [
    {
     "name": "stdout",
     "output_type": "stream",
     "text": [
      "[13, 10, 14, 1, 0, 14, 1, 0, 5, 0, 1, 2, 8, 6, 2, 8, 7, 2, 3]\n"
     ]
    }
   ],
   "source": [
    "s = \"This is a sentence.\"\n",
    "s_vec = vocab.sentence_to_vector(s, c2i)\n",
    "print(s_vec)"
   ]
  },
  {
   "cell_type": "code",
   "execution_count": 11,
   "metadata": {
    "scrolled": true
   },
   "outputs": [
    {
     "data": {
      "text/plain": [
       "['T',\n",
       " 'h',\n",
       " 'i',\n",
       " 's',\n",
       " ' ',\n",
       " 'i',\n",
       " 's',\n",
       " ' ',\n",
       " 'a',\n",
       " ' ',\n",
       " 's',\n",
       " 'e',\n",
       " 'n',\n",
       " 't',\n",
       " 'e',\n",
       " 'n',\n",
       " 'c',\n",
       " 'e',\n",
       " '.']"
      ]
     },
     "execution_count": 11,
     "metadata": {},
     "output_type": "execute_result"
    }
   ],
   "source": [
    "[i2c[c] for c in s_vec]"
   ]
  },
  {
   "cell_type": "markdown",
   "metadata": {},
   "source": [
    "PyTorch wants its input as `torch.Tensor` objects, not as Python `list`s, so we'll need to write one more short function to do that conversion. We'll want our tensors to be of size $(1,n)$, where $n$ is the length of the sentence in characters.\n",
    "\n",
    "* **Deliverable 1.3:** Complete the `sentence_to_tensor()` function\n",
    "* **Test:** `nosetests tests/test_vocab.py:test_d1_3_sentence_tensor`"
   ]
  },
  {
   "cell_type": "code",
   "execution_count": 12,
   "metadata": {},
   "outputs": [],
   "source": [
    "reload(vocab);"
   ]
  },
  {
   "cell_type": "code",
   "execution_count": 13,
   "metadata": {
    "scrolled": true
   },
   "outputs": [
    {
     "name": "stdout",
     "output_type": "stream",
     "text": [
      "tensor([[13, 10, 14,  1,  0, 14,  1,  0,  5,  0,  1,  2,  8,  6,  2,  8,  7,  2,\n",
      "          3]])\n",
      "torch.Size([1, 19])\n"
     ]
    }
   ],
   "source": [
    "s = \"This is a sentence.\"\n",
    "s_tens = vocab.sentence_to_tensor(s, c2i)\n",
    "print(s_tens)\n",
    "print(s_tens.size())"
   ]
  },
  {
   "cell_type": "markdown",
   "metadata": {},
   "source": [
    "### Label lookup table\n",
    "\n",
    "Just as we need to be able to represent characters as indices, we also need to be able to map _labels_ to indicies. The logic for this is very similar to what we did before for characters, but without the tokenization step.\n",
    "\n",
    "* **Deliverable 1.4:** Complete the `vocab.build_label_vocab()` function\n",
    "* **Test:** `nosetests tests/test_vocab.py:test_d1_4_label_vocab`"
   ]
  },
  {
   "cell_type": "code",
   "execution_count": 14,
   "metadata": {},
   "outputs": [],
   "source": [
    "reload(vocab);"
   ]
  },
  {
   "cell_type": "code",
   "execution_count": 15,
   "metadata": {},
   "outputs": [],
   "source": [
    "labels = [\"eng\",\"eng\",\"spa\",\"eng\",\"deu\"]\n",
    "l2i, i2l = vocab.build_label_vocab(labels)"
   ]
  },
  {
   "cell_type": "code",
   "execution_count": 16,
   "metadata": {},
   "outputs": [
    {
     "data": {
      "text/plain": [
       "2"
      ]
     },
     "execution_count": 16,
     "metadata": {},
     "output_type": "execute_result"
    }
   ],
   "source": [
    "l2i['spa']"
   ]
  },
  {
   "cell_type": "code",
   "execution_count": 17,
   "metadata": {},
   "outputs": [
    {
     "data": {
      "text/plain": [
       "'spa'"
      ]
     },
     "execution_count": 17,
     "metadata": {},
     "output_type": "execute_result"
    }
   ],
   "source": [
    "i2l[2]"
   ]
  },
  {
   "cell_type": "code",
   "execution_count": 18,
   "metadata": {
    "scrolled": true
   },
   "outputs": [
    {
     "data": {
      "text/plain": [
       "[1, 1, 2, 1, 0]"
      ]
     },
     "execution_count": 18,
     "metadata": {},
     "output_type": "execute_result"
    }
   ],
   "source": [
    "[l2i[l] for l in labels]"
   ]
  },
  {
   "cell_type": "markdown",
   "metadata": {},
   "source": [
    "## Part 2: Language identification\n",
    "\n",
    "Language identification is often one of the first steps of an NLP pipeline, and is a foundational task in NLP. _[Automatic Language Identification in Texts: A Survey](https://arxiv.org/pdf/1804.08186.pdf)_, by Jauhiainen et al., gives an excellent overview of the task and its rich history in our field, and I would _strongly_ recommend taking a few minutes to read it before beginning this part of the assignment.\n",
    "\n",
    "Formally, we can craft language ID as a classification problem, given text sample $x$ and language $l \\in L$, we want to find: \n",
    "\n",
    "$$ \\operatorname*{argmax}_{l} P(l | x ) $$\n",
    "\n",
    "This can be done in a variety of ways. One common (and well-performing) technique is to use trigram character frequencies, or other character-level features (writing system, etc.); some approaches rely on or incorporate word-level features. The difficulty of the task depends on a number of factors:\n",
    "\n",
    "* How much training data one has from each language of interest (often an issue)\n",
    "* How similar the languages are to one another (Spanish and Italian are more difficult to differentiate than are English and Arabic)\n",
    "* How much [\"code-switching\"](https://en.wikipedia.org/wiki/Code-switching) is present in the language of interest\n",
    "\n",
    "The last point is a major one: many texts of interest (tweets, etc.) contain a mix of languages, which can cause trouble both at the time of _training_ a language identification system as well as at the time of _inference_ (i.e., when you're actually trying to _use_ your system). The problem can be compounded by mixed writing systems: due to limitations of text-entry systems, users of some non-Latin scripts often will often write e.g. Arabic using English orthography. Names of places, brands, individuals, etc. can also cause script-level code switching. Fortunately, for this assignment, you will not need to worry about this issue.\n",
    "\n",
    "We will be using [data](https://tatoeba.org/eng/downloads) from [Tatoeba](https://tatoeba.org), an online crowd-sourced language learning platform. Users collaboratively develop parallel corpora of sentences in a wide variety of languages. For this assignment, I have prepared two data sets based on Tatoeba's data:\n",
    "\n",
    "* [sentences_bilingual.csv](./data/sentences_bilingual.csv): 10,000 random English and 10,000 random Spanish sentences\n",
    "* [sentences_multilingual.csv](./data/sentences_multilingual.csv): 10,000 random sentences from each of English, Spanish, German, Italian, and French\n",
    "\n"
   ]
  },
  {
   "cell_type": "markdown",
   "metadata": {},
   "source": [
    "## Getting Started\n",
    "\n",
    "We'll begin with the bilingual (english/spanish) data:"
   ]
  },
  {
   "cell_type": "code",
   "execution_count": 19,
   "metadata": {},
   "outputs": [
    {
     "data": {
      "text/html": [
       "<div>\n",
       "<style scoped>\n",
       "    .dataframe tbody tr th:only-of-type {\n",
       "        vertical-align: middle;\n",
       "    }\n",
       "\n",
       "    .dataframe tbody tr th {\n",
       "        vertical-align: top;\n",
       "    }\n",
       "\n",
       "    .dataframe thead th {\n",
       "        text-align: right;\n",
       "    }\n",
       "</style>\n",
       "<table border=\"1\" class=\"dataframe\">\n",
       "  <thead>\n",
       "    <tr style=\"text-align: right;\">\n",
       "      <th></th>\n",
       "      <th>id</th>\n",
       "      <th>lang</th>\n",
       "      <th>sentence</th>\n",
       "    </tr>\n",
       "  </thead>\n",
       "  <tbody>\n",
       "    <tr>\n",
       "      <th>0</th>\n",
       "      <td>6733426</td>\n",
       "      <td>eng</td>\n",
       "      <td>Tom wasn't able to change anything.</td>\n",
       "    </tr>\n",
       "    <tr>\n",
       "      <th>1</th>\n",
       "      <td>256835</td>\n",
       "      <td>eng</td>\n",
       "      <td>I saw the sights of Kyoto during my vacation.</td>\n",
       "    </tr>\n",
       "    <tr>\n",
       "      <th>2</th>\n",
       "      <td>1404674</td>\n",
       "      <td>eng</td>\n",
       "      <td>And where are the aliens, the flying saucers, ...</td>\n",
       "    </tr>\n",
       "    <tr>\n",
       "      <th>3</th>\n",
       "      <td>4833334</td>\n",
       "      <td>eng</td>\n",
       "      <td>Is the water in the Black Sea actually black?</td>\n",
       "    </tr>\n",
       "    <tr>\n",
       "      <th>4</th>\n",
       "      <td>7241028</td>\n",
       "      <td>eng</td>\n",
       "      <td>I know a lot of people who don't eat meat.</td>\n",
       "    </tr>\n",
       "  </tbody>\n",
       "</table>\n",
       "</div>"
      ],
      "text/plain": [
       "        id lang                                           sentence\n",
       "0  6733426  eng                Tom wasn't able to change anything.\n",
       "1   256835  eng      I saw the sights of Kyoto during my vacation.\n",
       "2  1404674  eng  And where are the aliens, the flying saucers, ...\n",
       "3  4833334  eng      Is the water in the Black Sea actually black?\n",
       "4  7241028  eng         I know a lot of people who don't eat meat."
      ]
     },
     "execution_count": 19,
     "metadata": {},
     "output_type": "execute_result"
    }
   ],
   "source": [
    "bi_text = pd.read_csv(\"data/sentences_bilingual.csv\")\n",
    "bi_text.head()"
   ]
  },
  {
   "cell_type": "markdown",
   "metadata": {},
   "source": [
    "Step 1 is _always_ to look at your data. Verify how many entries we have, and of what languages:"
   ]
  },
  {
   "cell_type": "code",
   "execution_count": 20,
   "metadata": {},
   "outputs": [
    {
     "name": "stdout",
     "output_type": "stream",
     "text": [
      "Total entries: 20000\n"
     ]
    }
   ],
   "source": [
    "print(f\"Total entries: {len(bi_text)}\")"
   ]
  },
  {
   "cell_type": "code",
   "execution_count": 21,
   "metadata": {},
   "outputs": [
    {
     "data": {
      "text/html": [
       "<div>\n",
       "<style scoped>\n",
       "    .dataframe tbody tr th:only-of-type {\n",
       "        vertical-align: middle;\n",
       "    }\n",
       "\n",
       "    .dataframe tbody tr th {\n",
       "        vertical-align: top;\n",
       "    }\n",
       "\n",
       "    .dataframe thead th {\n",
       "        text-align: right;\n",
       "    }\n",
       "</style>\n",
       "<table border=\"1\" class=\"dataframe\">\n",
       "  <thead>\n",
       "    <tr style=\"text-align: right;\">\n",
       "      <th></th>\n",
       "      <th>id</th>\n",
       "      <th>sentence</th>\n",
       "    </tr>\n",
       "    <tr>\n",
       "      <th>lang</th>\n",
       "      <th></th>\n",
       "      <th></th>\n",
       "    </tr>\n",
       "  </thead>\n",
       "  <tbody>\n",
       "    <tr>\n",
       "      <th>eng</th>\n",
       "      <td>10000</td>\n",
       "      <td>10000</td>\n",
       "    </tr>\n",
       "    <tr>\n",
       "      <th>spa</th>\n",
       "      <td>10000</td>\n",
       "      <td>10000</td>\n",
       "    </tr>\n",
       "  </tbody>\n",
       "</table>\n",
       "</div>"
      ],
      "text/plain": [
       "         id  sentence\n",
       "lang                 \n",
       "eng   10000     10000\n",
       "spa   10000     10000"
      ]
     },
     "execution_count": 21,
     "metadata": {},
     "output_type": "execute_result"
    }
   ],
   "source": [
    "bi_text.groupby('lang').count()"
   ]
  },
  {
   "cell_type": "markdown",
   "metadata": {},
   "source": [
    "Now, build a character inventory/vocabulary for our data:"
   ]
  },
  {
   "cell_type": "code",
   "execution_count": 22,
   "metadata": {},
   "outputs": [],
   "source": [
    "c2i, i2c = vocab.build_vocab(bi_text.sentence.values)\n",
    "l2i, i2l = vocab.build_label_vocab(bi_text.lang.values)"
   ]
  },
  {
   "cell_type": "markdown",
   "metadata": {},
   "source": [
    "And now let's make a 80/20 training-test split:"
   ]
  },
  {
   "cell_type": "code",
   "execution_count": 23,
   "metadata": {},
   "outputs": [],
   "source": [
    "from sklearn.model_selection import train_test_split\n",
    "bi_text_train, bi_text_test = train_test_split(bi_text, test_size=0.2)"
   ]
  },
  {
   "cell_type": "markdown",
   "metadata": {},
   "source": [
    "What is the resulting class distribution?"
   ]
  },
  {
   "cell_type": "code",
   "execution_count": 24,
   "metadata": {},
   "outputs": [
    {
     "data": {
      "text/html": [
       "<div>\n",
       "<style scoped>\n",
       "    .dataframe tbody tr th:only-of-type {\n",
       "        vertical-align: middle;\n",
       "    }\n",
       "\n",
       "    .dataframe tbody tr th {\n",
       "        vertical-align: top;\n",
       "    }\n",
       "\n",
       "    .dataframe thead th {\n",
       "        text-align: right;\n",
       "    }\n",
       "</style>\n",
       "<table border=\"1\" class=\"dataframe\">\n",
       "  <thead>\n",
       "    <tr style=\"text-align: right;\">\n",
       "      <th></th>\n",
       "      <th>id</th>\n",
       "      <th>sentence</th>\n",
       "    </tr>\n",
       "    <tr>\n",
       "      <th>lang</th>\n",
       "      <th></th>\n",
       "      <th></th>\n",
       "    </tr>\n",
       "  </thead>\n",
       "  <tbody>\n",
       "    <tr>\n",
       "      <th>eng</th>\n",
       "      <td>7981</td>\n",
       "      <td>7981</td>\n",
       "    </tr>\n",
       "    <tr>\n",
       "      <th>spa</th>\n",
       "      <td>8019</td>\n",
       "      <td>8019</td>\n",
       "    </tr>\n",
       "  </tbody>\n",
       "</table>\n",
       "</div>"
      ],
      "text/plain": [
       "        id  sentence\n",
       "lang                \n",
       "eng   7981      7981\n",
       "spa   8019      8019"
      ]
     },
     "execution_count": 24,
     "metadata": {},
     "output_type": "execute_result"
    }
   ],
   "source": [
    "bi_text_train.groupby('lang').count()"
   ]
  },
  {
   "cell_type": "code",
   "execution_count": 25,
   "metadata": {},
   "outputs": [
    {
     "data": {
      "text/html": [
       "<div>\n",
       "<style scoped>\n",
       "    .dataframe tbody tr th:only-of-type {\n",
       "        vertical-align: middle;\n",
       "    }\n",
       "\n",
       "    .dataframe tbody tr th {\n",
       "        vertical-align: top;\n",
       "    }\n",
       "\n",
       "    .dataframe thead th {\n",
       "        text-align: right;\n",
       "    }\n",
       "</style>\n",
       "<table border=\"1\" class=\"dataframe\">\n",
       "  <thead>\n",
       "    <tr style=\"text-align: right;\">\n",
       "      <th></th>\n",
       "      <th>id</th>\n",
       "      <th>sentence</th>\n",
       "    </tr>\n",
       "    <tr>\n",
       "      <th>lang</th>\n",
       "      <th></th>\n",
       "      <th></th>\n",
       "    </tr>\n",
       "  </thead>\n",
       "  <tbody>\n",
       "    <tr>\n",
       "      <th>eng</th>\n",
       "      <td>2019</td>\n",
       "      <td>2019</td>\n",
       "    </tr>\n",
       "    <tr>\n",
       "      <th>spa</th>\n",
       "      <td>1981</td>\n",
       "      <td>1981</td>\n",
       "    </tr>\n",
       "  </tbody>\n",
       "</table>\n",
       "</div>"
      ],
      "text/plain": [
       "        id  sentence\n",
       "lang                \n",
       "eng   2019      2019\n",
       "spa   1981      1981"
      ]
     },
     "execution_count": 25,
     "metadata": {},
     "output_type": "execute_result"
    }
   ],
   "source": [
    "bi_text_test.groupby('lang').count()"
   ]
  },
  {
   "cell_type": "markdown",
   "metadata": {},
   "source": [
    "That's close enough to equal to be usable!"
   ]
  },
  {
   "cell_type": "markdown",
   "metadata": {},
   "source": [
    "## Building a model"
   ]
  },
  {
   "cell_type": "markdown",
   "metadata": {},
   "source": [
    "You should see that the data set is _balanced_ between two categories, English and Spanish.\n",
    "\n",
    "The classification model you will build will first project sparse character representations to a dense learned embedding representation (as in Goldberg 4.8), feed the result into an LSTM, and then use the LSTM's output as the input into a softmax classifier to predict the language of the input. Note that we want to use the _final_ LSTM output for classification. More formally:\n",
    "\n",
    "$$ \\hat{y} = \\operatorname*{softmax} \\mathbf{o}^{(n)} $$\n",
    "\n",
    "$$ \\mathbf{o} = \\mathbf{h} \\mathbf{W}_o^T + b_o $$\n",
    "\n",
    "$$ \\mathbf{h} = LSTM(\\mathbf{x})$$\n",
    "\n",
    "$$ \\mathbf{x}_{1:n} = \\mathbf{E}[w_1], ... , \\mathbf{E}[w_n] $$\n",
    "\n",
    "Where $\\mathbf{E}$ is an embedding layer, with its own learned weights, etc. We can use PyTorch's [`nn.Embedding`](https://pytorch.org/docs/stable/nn.html#embedding) layer class to take care of this part of our network- it takes as input a character index (just like the ones produced by our vocabulary function above). Similarly, we can use [`nn.LSTM`](https://pytorch.org/docs/stable/nn.html#lstm), [`nn.Linear`](https://pytorch.org/docs/stable/nn.html#linear), and [`nn.LogSoftmax`](https://pytorch.org/docs/stable/nn.html#logsoftmax) to create the rest of the layers.\n",
    "\n",
    "This architecture has several hyperparameters that you must specify:\n",
    "\n",
    "0. How many distinct characters do you need to represent ($n$)?\n",
    "1. How many dimensions to use for embedding (representing) the characters ($e$)?\n",
    "2. How many dimensions (hidden units) should the LSTM have ($h$)?\n",
    "3. How many layers should the LSTM have?\n",
    "3. How many output classes should the network have ($c$)?\n",
    "\n",
    "The dimensionality of the layers of the network should then be: $n \\times e$ for the embedding layer, $e \\times h$ for the LSTM, and $h \\times c$ for the output layer."
   ]
  },
  {
   "cell_type": "markdown",
   "metadata": {},
   "source": [
    "For this part of the assignment, I have done much of the work for you, and have provided a skeleton class with completed initialization functions. \n",
    "\n",
    "* **Deliverable 2.1:** Following the MLP example in the PyTorch walkthrough from Week 3, complete the `forward()` method in the `nn.Module` that is started for you in `hw3_utils.lang_id`. \n",
    "* **Test:** `nosetests tests/test_lang_id.py:test_d2_1_forward`\n",
    "\n",
    "\n",
    "\n",
    "_Note_: typically, PyTorch networks are trained using minibatch training (see Goldberg 5.2.8); for the sake of keeping this assignment simple, we will not be using the standard PyTorch batching behaviors. Instead, we will be batching \"manually\"- calling `.backward()` and updating our parameters after a configurable interval. This will make training take a little bit longer, but will make _your_ code simpler. As such, the shape of the input will be slightly different than PyTorch expects by default. You may need to experiment a bit!\n",
    "\n",
    "Also note that this is a \"many-to-one\" RNN architecture. Out of the box, `nn.LSTM` is set up for _many-to-many_ architectures where the input and output are synchronized- in other words, if you feed five time points _in_ to the LSTM (i.e., providing a $(1,5)$ input), you'll get a $(1,5)$ _output_ back. Since we only care about the _last_ timepoint's output for our classification problem, at some point you'll need to extract that value."
   ]
  },
  {
   "cell_type": "code",
   "execution_count": 26,
   "metadata": {},
   "outputs": [],
   "source": [
    "from hw3_utils import lang_id"
   ]
  },
  {
   "cell_type": "markdown",
   "metadata": {},
   "source": [
    "Here, I am initializing the model with 10 embedding dimensions, 20 hidden dimensions, a single LSTM layer, and two output classes (_`eng`_ and _`spa`_):"
   ]
  },
  {
   "cell_type": "code",
   "execution_count": 27,
   "metadata": {},
   "outputs": [],
   "source": [
    "reload(lang_id);\n",
    "\n",
    "li = lang_id.LangID(\n",
    "    input_vocab_n=len(c2i), \n",
    "    embedding_dims=10,\n",
    "    hidden_dims=20,\n",
    "    lstm_layers=1,\n",
    "    output_class_n=2\n",
    ")"
   ]
  },
  {
   "cell_type": "markdown",
   "metadata": {},
   "source": [
    "Now that it's initialized, I can provide it with input and verify that the output is of the dimensionality I expect:"
   ]
  },
  {
   "cell_type": "code",
   "execution_count": 28,
   "metadata": {
    "scrolled": true
   },
   "outputs": [
    {
     "data": {
      "text/plain": [
       "tensor([-0.8059, -0.5919], grad_fn=<SelectBackward>)"
      ]
     },
     "execution_count": 28,
     "metadata": {},
     "output_type": "execute_result"
    }
   ],
   "source": [
    "li(vocab.sentence_to_tensor(\"this is a sentence\", c2i))"
   ]
  },
  {
   "cell_type": "code",
   "execution_count": 29,
   "metadata": {},
   "outputs": [
    {
     "data": {
      "text/plain": [
       "torch.Size([2])"
      ]
     },
     "execution_count": 29,
     "metadata": {},
     "output_type": "execute_result"
    }
   ],
   "source": [
    "li(vocab.sentence_to_tensor(\"this is a sentence\", c2i)).shape"
   ]
  },
  {
   "cell_type": "markdown",
   "metadata": {},
   "source": [
    "**Tip**: I recommend building up the `forward()` method one layer at a time, at each step of the way verifying that the output you are seeing is what you expect.\n",
    "\n",
    "That output is the raw log-probabilities associated with each class. This is not especially user-friendly, and makes evaluation a bit more difficult than we might care for. \n",
    "\n",
    "* **Deliverable 2.2:** Implement the `predict_one()` function in `hw3_utils.lang_id`.\n",
    "* **Test:** `nosetests tests/test_lang_id.py:test_d2_2_predict_one`"
   ]
  },
  {
   "cell_type": "code",
   "execution_count": 30,
   "metadata": {},
   "outputs": [],
   "source": [
    "reload(lang_id);"
   ]
  },
  {
   "cell_type": "code",
   "execution_count": 31,
   "metadata": {},
   "outputs": [
    {
     "data": {
      "text/plain": [
       "'spa'"
      ]
     },
     "execution_count": 31,
     "metadata": {},
     "output_type": "execute_result"
    }
   ],
   "source": [
    "lang_id.predict_one(li, \"this is a sentence\", c2i, i2l)"
   ]
  },
  {
   "cell_type": "markdown",
   "metadata": {},
   "source": [
    "## Training and evaluating model\n",
    "\n",
    "Next, we need to train and evaluate the model. I have provided a `train_model()` function to do the training for this model, in `hw3_utils.lang_id`. This part of the assignment features fewer automated tests, and involves a little bit more thinking and writing."
   ]
  },
  {
   "cell_type": "code",
   "execution_count": 32,
   "metadata": {},
   "outputs": [],
   "source": [
    "reload(lang_id);"
   ]
  },
  {
   "cell_type": "code",
   "execution_count": 33,
   "metadata": {},
   "outputs": [
    {
     "name": "stdout",
     "output_type": "stream",
     "text": [
      "0/16000 average per-item loss: 0.00681978277862072\n",
      "1000/16000 average per-item loss: 0.6983176469802856\n",
      "2000/16000 average per-item loss: 0.6896975636482239\n",
      "3000/16000 average per-item loss: 0.6860743761062622\n",
      "4000/16000 average per-item loss: 0.6844018697738647\n",
      "5000/16000 average per-item loss: 0.6706076264381409\n",
      "6000/16000 average per-item loss: 0.6609964966773987\n",
      "7000/16000 average per-item loss: 0.6288576722145081\n",
      "8000/16000 average per-item loss: 0.6149746775627136\n",
      "9000/16000 average per-item loss: 0.5975704789161682\n",
      "10000/16000 average per-item loss: 0.4222944974899292\n",
      "11000/16000 average per-item loss: 0.48669886589050293\n",
      "12000/16000 average per-item loss: 0.450114905834198\n",
      "13000/16000 average per-item loss: 0.4472447633743286\n",
      "14000/16000 average per-item loss: 0.3268997073173523\n",
      "15000/16000 average per-item loss: 0.2989617586135864\n"
     ]
    }
   ],
   "source": [
    "trained_model = lang_id.train_model(\n",
    "    model=li, \n",
    "    n_epochs=1,\n",
    "    training_data=bi_text_train,\n",
    "    c2i=c2i, i2c=i2c,\n",
    "    l2i=l2i, i2l=i2l\n",
    ")"
   ]
  },
  {
   "cell_type": "code",
   "execution_count": 34,
   "metadata": {},
   "outputs": [
    {
     "data": {
      "text/plain": [
       "tensor([-1.2013, -0.3578], grad_fn=<SelectBackward>)"
      ]
     },
     "execution_count": 34,
     "metadata": {},
     "output_type": "execute_result"
    }
   ],
   "source": [
    "trained_model(vocab.sentence_to_tensor(\"this is a sentence\", c2i))"
   ]
  },
  {
   "cell_type": "code",
   "execution_count": 35,
   "metadata": {
    "scrolled": true
   },
   "outputs": [
    {
     "data": {
      "text/plain": [
       "tensor([-2.5913, -0.0779], grad_fn=<SelectBackward>)"
      ]
     },
     "execution_count": 35,
     "metadata": {},
     "output_type": "execute_result"
    }
   ],
   "source": [
    "trained_model(vocab.sentence_to_tensor(\"quien estas\", c2i))"
   ]
  },
  {
   "cell_type": "markdown",
   "metadata": {},
   "source": [
    "Now that we've got a trained model, it's time to evaluate its performance. \n",
    "\n",
    "* **Deliverable 2.3:** Complete the `eval_acc()` function in `hw3_utils.lang_id`. Note that PyTorch `Tensor` objects have an `argmax()` function!\n",
    "* **Test:** `nosetests tests/test_lang_id.py:test_d2_3_eval_acc`"
   ]
  },
  {
   "cell_type": "code",
   "execution_count": 36,
   "metadata": {},
   "outputs": [
    {
     "name": "stdout",
     "output_type": "stream",
     "text": [
      "Accuracy: 0.8775\n"
     ]
    }
   ],
   "source": [
    "acc, y_hat = lang_id.eval_acc(trained_model, bi_text_test, c2i, i2c, l2i, i2l)\n",
    "print(f\"Accuracy: {acc}\")"
   ]
  },
  {
   "cell_type": "markdown",
   "metadata": {},
   "source": [
    "And what if we run this on a new, _untrained_ model?"
   ]
  },
  {
   "cell_type": "code",
   "execution_count": 37,
   "metadata": {},
   "outputs": [
    {
     "name": "stdout",
     "output_type": "stream",
     "text": [
      "Accuracy: 0.44575\n"
     ]
    }
   ],
   "source": [
    "untrained = lang_id.LangID(\n",
    "    input_vocab_n=len(c2i), \n",
    "    embedding_dims=10,\n",
    "    hidden_dims=20,\n",
    "    lstm_layers=1,\n",
    "    output_class_n=2\n",
    ")\n",
    "\n",
    "acc_untrained, y_hat_untrained = lang_id.eval_acc(untrained, bi_text_test, c2i, i2c, l2i, i2l)\n",
    "\n",
    "print(f\"Accuracy: {acc_untrained}\")"
   ]
  },
  {
   "cell_type": "markdown",
   "metadata": {},
   "source": [
    "As expected, an untrained model gets approximately chance performance.\n",
    "\n",
    "On our trained model, we were able to achieve ≈90% accuracy on held-out test data, which is very high accuracy! Let's investigate our hyperparameter settings: how small can we make our embedding and hidden dimensions before performance suffers?\n",
    "\n",
    "* **Deliverable 2.4:** Turn both the embedding dimensions and the hidden dimensions _waaaaay_ down, to 2 each, and retrain/re-evaluate the model. Save your evaluation results to a CSV file named \"deliverable_2.4.csv\" with three columns: the sentence itself, the _true_ label, and the _predicted_ label. Also produce a text file named \"deliverable_2.4.txt\" containing the observed evaluation accuracy and an explanation of what you observe. Why is the number what it is?"
   ]
  },
  {
   "cell_type": "markdown",
   "metadata": {},
   "source": [
    "### Extending to multinomial classification\n",
    "\n",
    "Clearly, a simple LSTM classifier works very well for this binary classification problem, even for very low-dimensional networks. What if we try and do multi-class classification? Our model should, in theory, be adaptable to that case. How sensitive is it to our network dimensionality?"
   ]
  },
  {
   "cell_type": "code",
   "execution_count": 38,
   "metadata": {},
   "outputs": [
    {
     "data": {
      "text/html": [
       "<div>\n",
       "<style scoped>\n",
       "    .dataframe tbody tr th:only-of-type {\n",
       "        vertical-align: middle;\n",
       "    }\n",
       "\n",
       "    .dataframe tbody tr th {\n",
       "        vertical-align: top;\n",
       "    }\n",
       "\n",
       "    .dataframe thead th {\n",
       "        text-align: right;\n",
       "    }\n",
       "</style>\n",
       "<table border=\"1\" class=\"dataframe\">\n",
       "  <thead>\n",
       "    <tr style=\"text-align: right;\">\n",
       "      <th></th>\n",
       "      <th>id</th>\n",
       "      <th>sentence</th>\n",
       "    </tr>\n",
       "    <tr>\n",
       "      <th>lang</th>\n",
       "      <th></th>\n",
       "      <th></th>\n",
       "    </tr>\n",
       "  </thead>\n",
       "  <tbody>\n",
       "    <tr>\n",
       "      <th>deu</th>\n",
       "      <td>10000</td>\n",
       "      <td>10000</td>\n",
       "    </tr>\n",
       "    <tr>\n",
       "      <th>eng</th>\n",
       "      <td>10000</td>\n",
       "      <td>10000</td>\n",
       "    </tr>\n",
       "    <tr>\n",
       "      <th>fra</th>\n",
       "      <td>10000</td>\n",
       "      <td>10000</td>\n",
       "    </tr>\n",
       "    <tr>\n",
       "      <th>ita</th>\n",
       "      <td>10000</td>\n",
       "      <td>10000</td>\n",
       "    </tr>\n",
       "    <tr>\n",
       "      <th>spa</th>\n",
       "      <td>10000</td>\n",
       "      <td>10000</td>\n",
       "    </tr>\n",
       "  </tbody>\n",
       "</table>\n",
       "</div>"
      ],
      "text/plain": [
       "         id  sentence\n",
       "lang                 \n",
       "deu   10000     10000\n",
       "eng   10000     10000\n",
       "fra   10000     10000\n",
       "ita   10000     10000\n",
       "spa   10000     10000"
      ]
     },
     "execution_count": 38,
     "metadata": {},
     "output_type": "execute_result"
    }
   ],
   "source": [
    "multi_text = pd.read_csv(\"data/sentences_multilingual.csv\")\n",
    "multi_text_train, multi_text_test = train_test_split(multi_text, test_size=0.2)\n",
    "\n",
    "multi_text.groupby('lang').count()\n"
   ]
  },
  {
   "cell_type": "code",
   "execution_count": 39,
   "metadata": {},
   "outputs": [
    {
     "data": {
      "text/html": [
       "<div>\n",
       "<style scoped>\n",
       "    .dataframe tbody tr th:only-of-type {\n",
       "        vertical-align: middle;\n",
       "    }\n",
       "\n",
       "    .dataframe tbody tr th {\n",
       "        vertical-align: top;\n",
       "    }\n",
       "\n",
       "    .dataframe thead th {\n",
       "        text-align: right;\n",
       "    }\n",
       "</style>\n",
       "<table border=\"1\" class=\"dataframe\">\n",
       "  <thead>\n",
       "    <tr style=\"text-align: right;\">\n",
       "      <th></th>\n",
       "      <th>id</th>\n",
       "      <th>sentence</th>\n",
       "    </tr>\n",
       "    <tr>\n",
       "      <th>lang</th>\n",
       "      <th></th>\n",
       "      <th></th>\n",
       "    </tr>\n",
       "  </thead>\n",
       "  <tbody>\n",
       "    <tr>\n",
       "      <th>deu</th>\n",
       "      <td>7994</td>\n",
       "      <td>7994</td>\n",
       "    </tr>\n",
       "    <tr>\n",
       "      <th>eng</th>\n",
       "      <td>8024</td>\n",
       "      <td>8024</td>\n",
       "    </tr>\n",
       "    <tr>\n",
       "      <th>fra</th>\n",
       "      <td>7949</td>\n",
       "      <td>7949</td>\n",
       "    </tr>\n",
       "    <tr>\n",
       "      <th>ita</th>\n",
       "      <td>8012</td>\n",
       "      <td>8012</td>\n",
       "    </tr>\n",
       "    <tr>\n",
       "      <th>spa</th>\n",
       "      <td>8021</td>\n",
       "      <td>8021</td>\n",
       "    </tr>\n",
       "  </tbody>\n",
       "</table>\n",
       "</div>"
      ],
      "text/plain": [
       "        id  sentence\n",
       "lang                \n",
       "deu   7994      7994\n",
       "eng   8024      8024\n",
       "fra   7949      7949\n",
       "ita   8012      8012\n",
       "spa   8021      8021"
      ]
     },
     "execution_count": 39,
     "metadata": {},
     "output_type": "execute_result"
    }
   ],
   "source": [
    "multi_text_train.groupby('lang').count()"
   ]
  },
  {
   "cell_type": "code",
   "execution_count": 40,
   "metadata": {},
   "outputs": [],
   "source": [
    "c2i, i2c = vocab.build_vocab(multi_text.sentence.values)\n",
    "l2i, i2l = vocab.build_label_vocab(multi_text.lang.values)"
   ]
  },
  {
   "cell_type": "code",
   "execution_count": 41,
   "metadata": {
    "scrolled": true
   },
   "outputs": [
    {
     "name": "stdout",
     "output_type": "stream",
     "text": [
      "0/40000 average per-item loss: 0.01642667129635811\n",
      "1000/40000 average per-item loss: 1.6134119033813477\n",
      "2000/40000 average per-item loss: 1.5997588634490967\n",
      "3000/40000 average per-item loss: 1.6005256175994873\n",
      "4000/40000 average per-item loss: 1.6020686626434326\n",
      "5000/40000 average per-item loss: 1.5827243328094482\n",
      "6000/40000 average per-item loss: 1.5636366605758667\n",
      "7000/40000 average per-item loss: 1.5570893287658691\n",
      "8000/40000 average per-item loss: 1.5335530042648315\n",
      "9000/40000 average per-item loss: 1.4634987115859985\n",
      "10000/40000 average per-item loss: 1.4590955972671509\n",
      "11000/40000 average per-item loss: 1.2942500114440918\n",
      "12000/40000 average per-item loss: 1.270748496055603\n",
      "13000/40000 average per-item loss: 1.3093347549438477\n",
      "14000/40000 average per-item loss: 1.2145897150039673\n",
      "15000/40000 average per-item loss: 1.1979212760925293\n",
      "16000/40000 average per-item loss: 1.1776386499404907\n",
      "17000/40000 average per-item loss: 1.0737687349319458\n",
      "18000/40000 average per-item loss: 1.1595855951309204\n",
      "19000/40000 average per-item loss: 1.1175867319107056\n",
      "20000/40000 average per-item loss: 1.1471550464630127\n",
      "21000/40000 average per-item loss: 1.0604510307312012\n",
      "22000/40000 average per-item loss: 1.1495870351791382\n",
      "23000/40000 average per-item loss: 1.0654202699661255\n",
      "24000/40000 average per-item loss: 1.0303000211715698\n",
      "25000/40000 average per-item loss: 0.986151933670044\n",
      "26000/40000 average per-item loss: 0.9846463799476624\n",
      "27000/40000 average per-item loss: 0.9086387157440186\n",
      "28000/40000 average per-item loss: 0.828400194644928\n",
      "29000/40000 average per-item loss: 0.9540361166000366\n",
      "30000/40000 average per-item loss: 0.8817058801651001\n",
      "31000/40000 average per-item loss: 0.8896081447601318\n",
      "32000/40000 average per-item loss: 0.9426651000976562\n",
      "33000/40000 average per-item loss: 0.9266645908355713\n",
      "34000/40000 average per-item loss: 0.9137099385261536\n",
      "35000/40000 average per-item loss: 1.0194288492202759\n",
      "36000/40000 average per-item loss: 0.8328264355659485\n",
      "37000/40000 average per-item loss: 0.8543649315834045\n",
      "38000/40000 average per-item loss: 0.761219322681427\n",
      "39000/40000 average per-item loss: 0.8648602366447449\n",
      "done\n"
     ]
    }
   ],
   "source": [
    "multi_class = lang_id.LangID(\n",
    "    input_vocab_n=len(c2i), \n",
    "    embedding_dims=10,\n",
    "    hidden_dims=20,\n",
    "    lstm_layers=1,\n",
    "    output_class_n=5\n",
    ")\n",
    "\n",
    "lang_id.train_model(\n",
    "    model=multi_class, \n",
    "    n_epochs=1,\n",
    "    training_data=multi_text_train,\n",
    "    c2i=c2i, i2c=i2c,\n",
    "    l2i=l2i, i2l=i2l\n",
    ");\n",
    "\n",
    "print(\"done\")"
   ]
  },
  {
   "cell_type": "markdown",
   "metadata": {},
   "source": [
    "Now that it's trained, let's evaluate it as before:"
   ]
  },
  {
   "cell_type": "code",
   "execution_count": 42,
   "metadata": {},
   "outputs": [
    {
     "name": "stdout",
     "output_type": "stream",
     "text": [
      "Accuracy: 0.6629\n"
     ]
    }
   ],
   "source": [
    "acc_multi, y_hat_multi = lang_id.eval_acc(multi_class, multi_text_test, c2i, i2c, l2i, i2l)\n",
    "\n",
    "print(f\"Accuracy: {acc_multi}\")"
   ]
  },
  {
   "cell_type": "markdown",
   "metadata": {},
   "source": [
    "For 5-way classification, a single accuracy number is less useful than it is for binary classification. Scikit-Learn has some helpful classes for evaluating classifiers:"
   ]
  },
  {
   "cell_type": "code",
   "execution_count": 43,
   "metadata": {},
   "outputs": [],
   "source": [
    "from sklearn.metrics import classification_report, confusion_matrix"
   ]
  },
  {
   "cell_type": "markdown",
   "metadata": {},
   "source": [
    "The `classification_report` function will give us a per-class breakdown of our performance:"
   ]
  },
  {
   "cell_type": "code",
   "execution_count": 44,
   "metadata": {
    "scrolled": false
   },
   "outputs": [
    {
     "name": "stdout",
     "output_type": "stream",
     "text": [
      "              precision    recall  f1-score   support\n",
      "\n",
      "         deu       0.84      0.80      0.82      2006\n",
      "         eng       0.67      0.84      0.75      1976\n",
      "         fra       0.62      0.71      0.66      2051\n",
      "         ita       0.57      0.71      0.64      1988\n",
      "         spa       0.62      0.25      0.35      1979\n",
      "\n",
      "   micro avg       0.66      0.66      0.66     10000\n",
      "   macro avg       0.67      0.66      0.64     10000\n",
      "weighted avg       0.67      0.66      0.64     10000\n",
      "\n"
     ]
    }
   ],
   "source": [
    "y_multi = multi_text_test.lang.values\n",
    "print(classification_report(y_multi, y_hat_multi))"
   ]
  },
  {
   "cell_type": "markdown",
   "metadata": {},
   "source": [
    "The `confusion_matrix` function will give us a raw confusion matrix; rows are \"truth\" and columns are \"predictions\"."
   ]
  },
  {
   "cell_type": "code",
   "execution_count": 45,
   "metadata": {},
   "outputs": [
    {
     "data": {
      "text/plain": [
       "array([[1602,  349,   38,   15,    2],\n",
       "       [ 174, 1664,   70,   54,   14],\n",
       "       [  62,  150, 1459,  245,  135],\n",
       "       [  28,  176,  219, 1418,  147],\n",
       "       [  33,  139,  578,  743,  486]], dtype=int64)"
      ]
     },
     "execution_count": 45,
     "metadata": {},
     "output_type": "execute_result"
    }
   ],
   "source": [
    "cm = confusion_matrix(y_multi, y_hat_multi)\n",
    "cm"
   ]
  },
  {
   "cell_type": "markdown",
   "metadata": {},
   "source": [
    "The `lang_id` module has a method to make nicer-looking matrices:"
   ]
  },
  {
   "cell_type": "code",
   "execution_count": 46,
   "metadata": {},
   "outputs": [],
   "source": [
    "reload(lang_id);"
   ]
  },
  {
   "cell_type": "code",
   "execution_count": 47,
   "metadata": {
    "scrolled": true
   },
   "outputs": [
    {
     "data": {
      "image/png": "[encoded data removed]",
      "text/plain": [
       "<Figure size 432x288 with 2 Axes>"
      ]
     },
     "metadata": {
      "needs_background": "light"
     },
     "output_type": "display_data"
    }
   ],
   "source": [
    "lang_id.pretty_conf_matrix(cm, ['deu','eng','fra','ita','spa'])"
   ]
  },
  {
   "cell_type": "markdown",
   "metadata": {},
   "source": [
    "* **Deliverable 2.5:** Interpret these results. Why is our classifier performing better on some languages than on others? Put your analysis in a file named `deliverable_2.5.txt`.\n",
    "\n",
    "From here, the rest of this section is up to you. Experiment with different numbers of embedding & hidden dimensions, hidden LSTM layers, etc., and see how high you can get your classification accuracy. Also try training for additional epochs. Does that help?\n",
    "\n",
    "* **Deliverable 2.6:** Describe at least two additional models that you trained and evaluated, along with their overall and per-class accuracies. What seemed to help the most? Put your discussion in a file named `deliverable_2.6.txt`."
   ]
  },
  {
   "cell_type": "markdown",
   "metadata": {},
   "source": [
    "## Part 3: Language modeling\n",
    "\n",
    "### Getting Started\n",
    "\n",
    "In this part of the assignment, you will build and evaluate a simple LSTM character language model, and then _sample_ from it to generate new text mimicking the training data. The model you will build should follow the general structure outlined in Section 17.1 of the Goldberg text, and use the \"teacher-forcing\" training method outlined in 17.1.1.\n",
    "\n",
    "$$ p(\\mathbf{w}_n | \\mathbf{w}_{1:n-1}) = \\operatorname*{softmax} \\mathbf{o}^{(n-1)} $$\n",
    "\n",
    "$$ o = \\mathbf{h} \\mathbf{W}_o^T + b_o $$\n",
    "\n",
    "$$ \\mathbf{h} = LSTM(\\mathbf{x})$$\n",
    "\n",
    "$$ \\mathbf{x}_{1:n-1} = \\mathbf{E}[w_1], ... , \\mathbf{E}[w_n-1] $$\n",
    "\n",
    "For this part of the assignment, we will be working with a data set of British place names located in `data/towns_clean.txt`."
   ]
  },
  {
   "cell_type": "code",
   "execution_count": null,
   "metadata": {},
   "outputs": [],
   "source": [
    "corpus = [l.strip() for l in open('data/towns_clean.txt')]\n",
    "c2i, i2c = vocab.build_vocab(corpus)\n",
    "\n",
    "for t in np.random.choice(corpus, size=10):\n",
    "    print(t)"
   ]
  },
  {
   "cell_type": "markdown",
   "metadata": {},
   "source": [
    "Your network, once trained, will learn to recognize British place names, and will be able to make up new ones.\n",
    "\n",
    "* **Deliverable 3.1:** Implement the `__init__()`, and `forward()` functions in `hw3_utils.lm.NameGenerator`.\n",
    "* **Test:** `nosetests tests/test_lm.py:test_d3_1_setup`\n",
    "\n",
    "Once you've got these methods set up correctly, the following ought to work (in the sense of producing appropriately-sized output):"
   ]
  },
  {
   "cell_type": "code",
   "execution_count": null,
   "metadata": {},
   "outputs": [],
   "source": [
    "from hw3_utils import lm\n",
    "reload(lm);"
   ]
  },
  {
   "cell_type": "code",
   "execution_count": null,
   "metadata": {},
   "outputs": [],
   "source": [
    "model = lm.NameGenerator(\n",
    "    input_vocab_size=len(c2i),\n",
    "    n_embedding_dims=25,\n",
    "    n_hidden_dims=50,\n",
    "    n_lstm_layers=1,\n",
    "    output_vocab_size=len(c2i)\n",
    ")\n",
    "\n",
    "x = vocab.sentence_to_tensor(\"Test input\", c2i, True) # make sure to pad w/ bos/eos symbols\n",
    "y_hat, lstm_hidden_state = model(x, model.init_hidden())\n",
    "y_hat.shape # should be 1x12x77 (1 x len(\"Test input\")+2 x len(c2i))"
   ]
  },
  {
   "cell_type": "markdown",
   "metadata": {},
   "source": [
    "Each position $i$ along the second dimension of $\\hat{y}$ is the model's estimate of $p(x_{i+1} | x_{1:i})$, and is represented as a multinomial probability distribution in log-space (i.e., each of the 78 possible characters is assigned an estimated log-probability of occurring).\n",
    "\n",
    "By multiplying across (or summing across, in log-space) each of those values, we can calculate the model's estimate of the probability of an input sequence (see Jurafsky & Martin, Chapter 3 if you need refresher on how this works). As a convenience method, I have provided `lm.compute_prob`."
   ]
  },
  {
   "cell_type": "code",
   "execution_count": null,
   "metadata": {
    "scrolled": true
   },
   "outputs": [],
   "source": [
    "lm.compute_prob(model, \"Test input\", c2i)"
   ]
  },
  {
   "cell_type": "code",
   "execution_count": null,
   "metadata": {},
   "outputs": [],
   "source": [
    "lm.compute_prob(model, \"fdsafsadfa\", c2i)"
   ]
  },
  {
   "cell_type": "markdown",
   "metadata": {},
   "source": [
    "This produces _negative log probabilities_. In this case, the model has not yet been trained and so the two sequences are given (very roughly) equivalent probabilities\n",
    "\n",
    "Note that \"out of the box\" `compute_prob()` does not _normalize_ the probabilities by sequence length, and as such longer sequences will have lower probabilities on average than shorter sequences, regardless of how plausible they are to the model. If you want to compare the model's estimate of the probabilities of two sequences of different lengths, you must normalize each by the appropriate sequence's length.\n",
    "\n",
    "Once the model is trained, the estimated probabilities of the two sequences above should be quite different!"
   ]
  },
  {
   "cell_type": "markdown",
   "metadata": {},
   "source": [
    "### Training\n",
    "\n",
    "Note that there are two ways to structure the training of this sort of model.\n",
    "\n",
    "1. One character at a time\n",
    "2. In a quasi batched manner\n",
    "\n",
    "The equations above describe character-at-a-time training- starting from the shortest possible prefix of our sequence $\\mathbf{w}$, $\\mathbf{w}_{1:1}$, and continuing up through successively longer prefixes until reaching $\\mathbf{w}_{1:n-1}$, ask the model to predict the next character, accumulating loss with the negative log-likelihood criterion.\n",
    "\n",
    "In this scenario, if our input training sentence was _\"hello there\"_, we would perform a series of forward passes:\n",
    "\n",
    "$x_1=\"h\"$, $y_1=\"e\"$\n",
    "\n",
    "$x_2=\"he\"$, $y_2=\"l\"$\n",
    "\n",
    "$x_3=\"hel\"$, $y_3=\"l\"$\n",
    "\n",
    "... and so forth, either doing a call to `backward()` after each prefix $x_i$ or waiting until the end of the sequence to do so. \n",
    "\n",
    "This way works just fine, and is more or less how we will go about sampling from the model, but it is often more efficient to do a more batched training operation. Note that in the above equations, $\\mathbf{o}$ will have dimensionality of $(1, n-1, N_{classes})$- in other words, there will be one set of probability estimates for each time point that we have provided the LSTM. PyTorch's `nn.NLLLoss` class can accept input in this shape, and will automatically compute the average loss across the timepoints (and of course will do so a way that keeps the gradients around for correct backpropagation). Training this way can reduce the total number of computations that we need to do in order to train our model.\n",
    "\n",
    "In this scenario, we would perform a _single_ forward and backward pass, with input that looked like so:\n",
    "\n",
    "$x=\"hello\\_ther\"$, $y=\"ello\\_there\"$\n",
    "\n",
    "Note that PyTorch is perfectly happy either way: the various `nn.*` classes all expect to be able to be given input in this minibatched format. In the first training strategy, the \"batch\" size is 1; in the second, it is $n-1$ where $n$ is the length of the training example.\n",
    "\n",
    "The overall process of training this model will be very similar to how we trained the language ID classifier, so use that as a starting point and modify as needed. For starters, train with the following parameters:\n",
    "\n",
    "* Number of character embedding dimensions: 25\n",
    "* Number of LSTM hidden units: 50\n",
    "* Number of LSTM layers: 1\n",
    "\n",
    "Once your model is trained, you can save it to disk using the `torch.save()` function. This will make it available for the unit test to access.\n",
    "\n",
    "* **Deliverable 3.2:** Implement the `train()` function in `hw3_utils.lm`. Save a trained model to a file named `deliverable_3.2.mod`.\n",
    "* **Test:** `nosetests tests/test_lm.py:test_d3_2_training`"
   ]
  },
  {
   "cell_type": "code",
   "execution_count": null,
   "metadata": {},
   "outputs": [],
   "source": [
    "lm.train(model, epochs=2, training_data=corpus, c2i=c2i)"
   ]
  },
  {
   "cell_type": "code",
   "execution_count": null,
   "metadata": {
    "scrolled": true
   },
   "outputs": [],
   "source": [
    "lm.compute_prob(model, \"Test input\", c2i)"
   ]
  },
  {
   "cell_type": "code",
   "execution_count": null,
   "metadata": {},
   "outputs": [],
   "source": [
    "lm.compute_prob(model, \"fdsafsadfa\", c2i)"
   ]
  },
  {
   "cell_type": "markdown",
   "metadata": {},
   "source": [
    "Remember, this is in log-space, so the difference here is substantial. And now let's try giving it an actual town name as input:"
   ]
  },
  {
   "cell_type": "code",
   "execution_count": null,
   "metadata": {},
   "outputs": [],
   "source": [
    "lm.compute_prob(model, \"Wavertree\", c2i)"
   ]
  },
  {
   "cell_type": "markdown",
   "metadata": {},
   "source": [
    "### Sampling\n",
    "\n",
    "Now that we've got a language model trained, we can sample from it to generate _new_ names. Follow the general procedure outlined in Goldberg 9.5: \n",
    "\n",
    "1. Build an initial history consisting of the `vocab.BOS_SYM` symbol\n",
    "2. Using this history, query the language model, and predict a distribution over next characters\n",
    "3. Sample a character from that distribution\n",
    "4. Concatenate the selected character to make a _new_ history\n",
    "5. Repeat from step 2 until the selected character is `vocab.EOS_SYM` or we hit a maximum length (200 characters, in this assignment).\n",
    "\n",
    "Once you've implemented sampling, you can generate hilarious and adorable new names!\n",
    "\n",
    "* **Deliverable 3.3:** Implement the `sample()` function in `hw3_utils.lm`\n",
    "* **Test:** `nosetests tests/test_lm.py:test_d3_3_sample`\n",
    "\n",
    "_Hint_: The `torch.multinomial()` function samples from a multinomial distribution stored in a `Tensor`, but _it requires real-space probabilities_, not log-space. `Tensor`s have a `.exp()` method that you may need to use."
   ]
  },
  {
   "cell_type": "code",
   "execution_count": null,
   "metadata": {
    "scrolled": true
   },
   "outputs": [],
   "source": [
    "for i in range(10):\n",
    "    print(lm.sample(model, c2i, i2c))"
   ]
  },
  {
   "cell_type": "markdown",
   "metadata": {},
   "source": [
    "### Improving your model\n",
    "\n",
    "These generated names should look more like names of towns than random sequences, but they are a little bit rough compared to the names in the data file. Try modifying your training process to go for additional epochs, and see how that changes your sampled sentences. Also, experiment with different model parameters. What happens if you _decrease_ number of hidden dimensions? What about _increasing_ the dimensionality? How about adding more layers to the LSTM?\n",
    "\n",
    "One useful thing to try: now that the `sample()` function is written, you might try adding some reporting code to your `train()` function: at regular intervals during training (e.g. every 1000 training examples), you could have it print out a few random towns generated from the model at its current state. This way, you can watch the model evolve over time. How many examples does it need to see before it learns that names always start with upper-case letters?\n",
    "\n",
    "* **Deliverable 3.4:** Write up a short summary of your observations and investigations into model behavior, including examples, and put it in a text file called `deliverable_3.4.txt`."
   ]
  },
  {
   "cell_type": "code",
   "execution_count": null,
   "metadata": {},
   "outputs": [],
   "source": []
  }
 ],
 "metadata": {
  "kernelspec": {
   "display_name": "Python 3",
   "language": "python",
   "name": "python3"
  },
  "language_info": {
   "codemirror_mode": {
    "name": "ipython",
    "version": 3
   },
   "file_extension": ".py",
   "mimetype": "text/x-python",
   "name": "python",
   "nbconvert_exporter": "python",
   "pygments_lexer": "ipython3",
   "version": "3.7.2"
  }
 },
 "nbformat": 4,
 "nbformat_minor": 2
}
