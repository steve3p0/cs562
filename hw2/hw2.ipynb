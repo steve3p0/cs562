{
 "cells": [
  {
   "cell_type": "markdown",
   "metadata": {},
   "source": [
    "# Homework 2: Text Classification\n",
    "\n",
    "Text classification is a fundamental NLP task. In this assignment, you will build and evaluate a simple text classification pipeline, using both from-scratch as well as library implementations of standard classification algorithms.\n",
    "\n",
    "This problem set is adapted from the first problem set given in Jacob Eisentstein's Spring Term 2018 course in NLP, taught at Georgia Tech, and is modified from [the original](https://github.com/jacobeisenstein/gt-nlp-class/blob/master/psets/ps1/pset1.ipynb) with permission of the author."
   ]
  },
  {
   "cell_type": "markdown",
   "metadata": {},
   "source": [
    "## 0. Setup\n",
    "\n",
    "You will need to install several Python libraries in order to do this assignment. They are all installable with either `anaconda` or `pip`.\n",
    "\n",
    "* jupyter\n",
    "* matplotlib\n",
    "* sklearn\n",
    "* nose\n",
    "* pandas\n",
    "\n",
    "Most of your coding for this assignment will be in files in the `hw2_utils` package as well as in this Jupyter notebook. I have also provided automated unit tests which will help you determine if your code is working correctly, located in the `tests` directory. You are free to examine the code for the unit tests- in fact, you _should_ examine the code, as you will likely find it helpful. Note that these tests are the same ones that I will be using to help grade the assignment, so one of your goals with this assignment is to get all of the tests to pass. For more information about working with unit tests, see [this guide](http://pythontesting.net/framework/nose/nose-introduction/).\n",
    "\n",
    "Note that the skeleton function implementations in `hw2_utils` all have careful and precise docstring annotations indicating types of parameters and returns. Pay careful attention to these, as you will be using your own functions elsewhere in the assignment!\n",
    "\n",
    "If you have never used Jupyter notebooks before, [this guide](https://www.dataquest.io/blog/jupyter-notebook-tutorial/) may be useful."
   ]
  },
  {
   "cell_type": "markdown",
   "metadata": {},
   "source": [
    "### Verification & loading of packages, etc."
   ]
  },
  {
   "cell_type": "code",
   "execution_count": 1,
   "metadata": {},
   "outputs": [],
   "source": [
    "import sys\n",
    "from importlib import reload"
   ]
  },
  {
   "cell_type": "markdown",
   "metadata": {},
   "source": [
    "If you do not already have the relevant packages installed, execute the following cell:"
   ]
  },
  {
   "cell_type": "code",
   "execution_count": 2,
   "metadata": {
    "scrolled": false
   },
   "outputs": [
    {
     "name": "stdout",
     "output_type": "stream",
     "text": [
      "Requirement already satisfied: sklearn in c:\\users\\steve\\appdata\\local\\programs\\python\\python37-32\\lib\\site-packages (0.0)\n",
      "Requirement already satisfied: nose in c:\\users\\steve\\appdata\\local\\programs\\python\\python37-32\\lib\\site-packages (1.3.7)\n",
      "Requirement already satisfied: matplotlib in c:\\users\\steve\\appdata\\local\\programs\\python\\python37-32\\lib\\site-packages (3.0.2)\n",
      "Requirement already satisfied: pandas in c:\\users\\steve\\appdata\\local\\programs\\python\\python37-32\\lib\\site-packages (0.23.4)\n",
      "Requirement already satisfied: scikit-learn in c:\\users\\steve\\appdata\\local\\programs\\python\\python37-32\\lib\\site-packages (from sklearn) (0.20.2)\n",
      "Requirement already satisfied: numpy>=1.10.0 in c:\\users\\steve\\appdata\\roaming\\python\\python37\\site-packages (from matplotlib) (1.16.0)\n",
      "Requirement already satisfied: python-dateutil>=2.1 in c:\\users\\steve\\appdata\\local\\programs\\python\\python37-32\\lib\\site-packages (from matplotlib) (2.7.5)\n",
      "Requirement already satisfied: cycler>=0.10 in c:\\users\\steve\\appdata\\local\\programs\\python\\python37-32\\lib\\site-packages (from matplotlib) (0.10.0)\n",
      "Requirement already satisfied: kiwisolver>=1.0.1 in c:\\users\\steve\\appdata\\local\\programs\\python\\python37-32\\lib\\site-packages (from matplotlib) (1.0.1)\n",
      "Requirement already satisfied: pyparsing!=2.0.4,!=2.1.2,!=2.1.6,>=2.0.1 in c:\\users\\steve\\appdata\\local\\programs\\python\\python37-32\\lib\\site-packages (from matplotlib) (2.3.1)\n",
      "Requirement already satisfied: pytz>=2011k in c:\\users\\steve\\appdata\\local\\programs\\python\\python37-32\\lib\\site-packages (from pandas) (2018.9)\n",
      "Requirement already satisfied: scipy>=0.13.3 in c:\\users\\steve\\appdata\\roaming\\python\\python37\\site-packages (from scikit-learn->sklearn) (1.2.0)\n",
      "Requirement already satisfied: six>=1.5 in c:\\users\\steve\\appdata\\local\\programs\\python\\python37-32\\lib\\site-packages (from python-dateutil>=2.1->matplotlib) (1.12.0)\n",
      "Requirement already satisfied: setuptools in c:\\users\\steve\\appdata\\local\\programs\\python\\python37-32\\lib\\site-packages (from kiwisolver>=1.0.1->matplotlib) (40.6.3)\n"
     ]
    }
   ],
   "source": [
    "!pip3 install sklearn nose matplotlib pandas"
   ]
  },
  {
   "cell_type": "code",
   "execution_count": 3,
   "metadata": {},
   "outputs": [],
   "source": [
    "import nose\n",
    "import pandas as pd\n",
    "import numpy as np\n",
    "import scipy as sp\n",
    "import matplotlib\n",
    "import matplotlib.pyplot as plt\n",
    "%matplotlib inline"
   ]
  },
  {
   "cell_type": "markdown",
   "metadata": {},
   "source": [
    "What versions do you have installed?"
   ]
  },
  {
   "cell_type": "code",
   "execution_count": 4,
   "metadata": {},
   "outputs": [
    {
     "name": "stdout",
     "output_type": "stream",
     "text": [
      "3.7.2 (tags/v3.7.2:9a3ffc0492, Dec 23 2018, 22:20:52) [MSC v.1916 32 bit (Intel)]\n",
      "My library versions:\n",
      "Pandas: 0.23.4\n",
      "Numpy: 1.16.0\n",
      "Scipy: 1.2.0\n",
      "matplotlib: 3.0.2\n",
      "nose: 1.3.7\n"
     ]
    }
   ],
   "source": [
    "print(sys.version)\n",
    "print(\"My library versions:\")\n",
    "print(f\"Pandas: {pd.__version__}\")\n",
    "print(f\"Numpy: {np.__version__}\")\n",
    "print(f\"Scipy: {sp.__version__}\")\n",
    "print(f\"matplotlib: {matplotlib.__version__}\")\n",
    "print(f\"nose: {nose.__version__}\")"
   ]
  },
  {
   "cell_type": "markdown",
   "metadata": {},
   "source": [
    "Let's run our first unit test, to make sure that your environment is set up correctly:"
   ]
  },
  {
   "cell_type": "code",
   "execution_count": 5,
   "metadata": {
    "scrolled": false
   },
   "outputs": [
    {
     "name": "stderr",
     "output_type": "stream",
     "text": [
      ".\n",
      "----------------------------------------------------------------------\n",
      "Ran 1 test in 0.001s\n",
      "\n",
      "OK\n"
     ]
    }
   ],
   "source": [
    "! nosetests tests/test_environment.py"
   ]
  },
  {
   "cell_type": "markdown",
   "metadata": {},
   "source": [
    "## 1. Preprocessing\n",
    "\n",
    "We'll be using Pandas dataframes to do some of our work. Start by reading a chunk of the data into a dataframe:"
   ]
  },
  {
   "cell_type": "code",
   "execution_count": 6,
   "metadata": {},
   "outputs": [],
   "source": [
    "df_train = pd.read_csv('lyrics-train.csv')\n",
    "df_dev = pd.read_csv('lyrics-dev.csv')\n",
    "df_test = pd.read_csv('lyrics-test-hidden.csv')"
   ]
  },
  {
   "cell_type": "code",
   "execution_count": 7,
   "metadata": {},
   "outputs": [
    {
     "data": {
      "text/html": [
       "<div>\n",
       "<style scoped>\n",
       "    .dataframe tbody tr th:only-of-type {\n",
       "        vertical-align: middle;\n",
       "    }\n",
       "\n",
       "    .dataframe tbody tr th {\n",
       "        vertical-align: top;\n",
       "    }\n",
       "\n",
       "    .dataframe thead th {\n",
       "        text-align: right;\n",
       "    }\n",
       "</style>\n",
       "<table border=\"1\" class=\"dataframe\">\n",
       "  <thead>\n",
       "    <tr style=\"text-align: right;\">\n",
       "      <th></th>\n",
       "      <th>Era</th>\n",
       "      <th>Lyrics</th>\n",
       "    </tr>\n",
       "  </thead>\n",
       "  <tbody>\n",
       "    <tr>\n",
       "      <th>0</th>\n",
       "      <td>pre-1980</td>\n",
       "      <td>come on come on let me show you where its at a...</td>\n",
       "    </tr>\n",
       "    <tr>\n",
       "      <th>1</th>\n",
       "      <td>1980s</td>\n",
       "      <td>welcome to the big time youre bound to be a s...</td>\n",
       "    </tr>\n",
       "    <tr>\n",
       "      <th>2</th>\n",
       "      <td>pre-1980</td>\n",
       "      <td>once i believed that when love came to me it ...</td>\n",
       "    </tr>\n",
       "    <tr>\n",
       "      <th>3</th>\n",
       "      <td>2000s</td>\n",
       "      <td>i took my love and i took it down climbed a m...</td>\n",
       "    </tr>\n",
       "    <tr>\n",
       "      <th>4</th>\n",
       "      <td>pre-1980</td>\n",
       "      <td>do do do do do do do do do do do do do do do ...</td>\n",
       "    </tr>\n",
       "  </tbody>\n",
       "</table>\n",
       "</div>"
      ],
      "text/plain": [
       "        Era                                             Lyrics\n",
       "0  pre-1980  come on come on let me show you where its at a...\n",
       "1     1980s   welcome to the big time youre bound to be a s...\n",
       "2  pre-1980   once i believed that when love came to me it ...\n",
       "3     2000s   i took my love and i took it down climbed a m...\n",
       "4  pre-1980   do do do do do do do do do do do do do do do ..."
      ]
     },
     "execution_count": 7,
     "metadata": {},
     "output_type": "execute_result"
    }
   ],
   "source": [
    "df_train.head()"
   ]
  },
  {
   "cell_type": "markdown",
   "metadata": {},
   "source": [
    "## Bag of words\n",
    "\n",
    "The first step is to write functions to produce a bag-of-words representation of each input song (using counts). For this data set, much of the work is already done: each song is already lower-cased, tokenized appropriately (modulo a few errors), and has had its punctuation removed.\n",
    "\n",
    "* **Deliverable 1.1**: Complete the function `hw2_utils.preproc.bag_of_words`\n",
    "\n",
    "* **Test**: `nosetests tests/test_preproc.py:test_d1_1_bow`"
   ]
  },
  {
   "cell_type": "code",
   "execution_count": 8,
   "metadata": {},
   "outputs": [],
   "source": [
    "from hw2_utils import preproc"
   ]
  },
  {
   "cell_type": "code",
   "execution_count": 9,
   "metadata": {},
   "outputs": [],
   "source": [
    "# run this block as you update the Python file, to trigger a reload in the notebook\n",
    "reload(preproc);"
   ]
  },
  {
   "cell_type": "code",
   "execution_count": 10,
   "metadata": {},
   "outputs": [],
   "source": [
    "y_train, x_train = preproc.read_data('lyrics-train.csv')"
   ]
  },
  {
   "cell_type": "code",
   "execution_count": 11,
   "metadata": {},
   "outputs": [
    {
     "name": "stderr",
     "output_type": "stream",
     "text": [
      ".\n",
      "----------------------------------------------------------------------\n",
      "Ran 1 test in 57.793s\n",
      "\n",
      "OK\n"
     ]
    }
   ],
   "source": [
    "! nosetests tests/test_preproc.py:test_d1_1_bow"
   ]
  },
  {
   "cell_type": "code",
   "execution_count": 12,
   "metadata": {},
   "outputs": [],
   "source": [
    "y_dev, x_dev = preproc.read_data('lyrics-dev.csv')\n",
    "y_test, x_test = preproc.read_data('lyrics-test-hidden.csv')"
   ]
  },
  {
   "cell_type": "markdown",
   "metadata": {},
   "source": [
    "## Unseen words\n",
    "\n",
    "One challenge for text classification is that words may appear in the test data that do not appear in the training data. In order to know how big of a problem this will be, it is useful to do some exploratory data analysis into word frequencies and vocabulary overlap. Since we don't want to look at the test data itself, we'll start by looking into the number of words that appear in `lyrics-dev.csv` but not in `lyrics-train.csv`.\n",
    "\n",
    "* **Deliverable 1.2**: Implement `hw2_utils.preproc.aggregate_counts`, a function to combine [`Counter`s](https://docs.python.org/3/library/collections.html#collections.Counter) representing document-level bags-of-words into a single `Counter` representing a collection of documents.\n",
    "* **Deliverable 1.3**: Implement `hw2_utils.preproc.compute_oov`, which returns a list of words that appear in one bag-of-words but not another.\n",
    "* **Tests**: `tests/test_preproc.py:test_d1_2_agg`, `tests/test_preproc.py:test_d1_3_oov`"
   ]
  },
  {
   "cell_type": "code",
   "execution_count": 13,
   "metadata": {},
   "outputs": [],
   "source": [
    "from collections import Counter"
   ]
  },
  {
   "cell_type": "code",
   "execution_count": 14,
   "metadata": {},
   "outputs": [],
   "source": [
    "reload(preproc);"
   ]
  },
  {
   "cell_type": "markdown",
   "metadata": {},
   "source": [
    "_Tip_: You may find it worthwhile or useuful to use the `%%timeit` Jupyter magic directive to evaluate the performance of your algorithm:"
   ]
  },
  {
   "cell_type": "code",
   "execution_count": 15,
   "metadata": {
    "scrolled": false
   },
   "outputs": [
    {
     "name": "stdout",
     "output_type": "stream",
     "text": [
      "1.27 s ± 67.6 ms per loop (mean ± std. dev. of 7 runs, 1 loop each)\n"
     ]
    }
   ],
   "source": [
    "%%timeit\n",
    "preproc.aggregate_counts(x_dev)"
   ]
  },
  {
   "cell_type": "markdown",
   "metadata": {},
   "source": [
    "`Counter`s are very useful tools! Note that many common set operations (intersection, etc.) are available, but be warned that they are sometimes _not_ the most performant way to work with Counters. Consult the documentation for details. \n",
    "\n",
    "You can see the most items in a `Counter` using the `most_common()` method:"
   ]
  },
  {
   "cell_type": "code",
   "execution_count": 16,
   "metadata": {
    "scrolled": false
   },
   "outputs": [
    {
     "data": {
      "text/plain": [
       "[('you', 5542), ('i', 5535), ('the', 5061), ('to', 3203), ('and', 2953)]"
      ]
     },
     "execution_count": 16,
     "metadata": {},
     "output_type": "execute_result"
    }
   ],
   "source": [
    "counts_dev = preproc.aggregate_counts(x_dev)\n",
    "counts_train = preproc.aggregate_counts(x_train)\n",
    "counts_dev.most_common(5)"
   ]
  },
  {
   "cell_type": "code",
   "execution_count": 17,
   "metadata": {
    "scrolled": true
   },
   "outputs": [
    {
     "name": "stdout",
     "output_type": "stream",
     "text": [
      "55.8 s ± 2.39 s per loop (mean ± std. dev. of 7 runs, 1 loop each)\n"
     ]
    }
   ],
   "source": [
    "%%timeit\n",
    "preproc.aggregate_counts(x_train)"
   ]
  },
  {
   "cell_type": "code",
   "execution_count": 18,
   "metadata": {
    "scrolled": true
   },
   "outputs": [
    {
     "data": {
      "text/plain": [
       "2677"
      ]
     },
     "execution_count": 18,
     "metadata": {},
     "output_type": "execute_result"
    }
   ],
   "source": [
    "len(preproc.compute_oov(counts_dev, counts_train))"
   ]
  },
  {
   "cell_type": "code",
   "execution_count": 19,
   "metadata": {},
   "outputs": [
    {
     "data": {
      "text/plain": [
       "30442"
      ]
     },
     "execution_count": 19,
     "metadata": {},
     "output_type": "execute_result"
    }
   ],
   "source": [
    "len(preproc.compute_oov(counts_train, counts_dev))"
   ]
  },
  {
   "cell_type": "code",
   "execution_count": 20,
   "metadata": {},
   "outputs": [
    {
     "data": {
      "text/plain": [
       "0.2972132785611191"
      ]
     },
     "execution_count": 20,
     "metadata": {},
     "output_type": "execute_result"
    }
   ],
   "source": [
    "preproc.oov_rate(counts_dev, counts_train)"
   ]
  },
  {
   "cell_type": "markdown",
   "metadata": {},
   "source": [
    "Looks like just under 30% of the words in the dev set do not appear in the training set."
   ]
  },
  {
   "cell_type": "markdown",
   "metadata": {},
   "source": [
    "## Power laws\n",
    "\n",
    "As we've discussed, word count distributions typically follow a [power law](https://en.wikipedia.org/wiki/Power_law) distribution.\n",
    "\n",
    "In practice, this means that a log-log plot of frequency against rank should be linear-ish. Let's see if this holds for our data!"
   ]
  },
  {
   "cell_type": "code",
   "execution_count": 21,
   "metadata": {},
   "outputs": [
    {
     "data": {
      "text/plain": [
       "<matplotlib.legend.Legend at 0x1782c30>"
      ]
     },
     "execution_count": 21,
     "metadata": {},
     "output_type": "execute_result"
    },
    {
     "data": {
      "image/png": "[encoded data removed]",
      "text/plain": [
       "<Figure size 432x288 with 1 Axes>"
      ]
     },
     "metadata": {},
     "output_type": "display_data"
    }
   ],
   "source": [
    "plt.loglog([val for word, val in counts_train.most_common()])\n",
    "plt.loglog([val for word, val in counts_dev.most_common()])\n",
    "plt.xlabel('rank')\n",
    "plt.ylabel('frequency')\n",
    "plt.legend(['Training', 'Dev'])"
   ]
  },
  {
   "cell_type": "markdown",
   "metadata": {},
   "source": [
    "Making plots like this is a very helpful \"sanity check\", to make sure that our data looks like we're expecting it to."
   ]
  },
  {
   "cell_type": "markdown",
   "metadata": {},
   "source": [
    "## Pruning the vocabulary\n",
    "\n",
    "Let's prune the vocabulary to only include words that appear at least _ten_ times in the training data.\n",
    "\n",
    "* **Deliverable 1.4**: Implement `preproc.prune_vocabulary`\n",
    "* **Test**: `tests/test_preproc.py:test_d1_4_prune`"
   ]
  },
  {
   "cell_type": "code",
   "execution_count": 22,
   "metadata": {},
   "outputs": [],
   "source": [
    "reload(preproc);"
   ]
  },
  {
   "cell_type": "code",
   "execution_count": 23,
   "metadata": {},
   "outputs": [],
   "source": [
    "x_train_pruned, vocab = preproc.prune_vocabulary(counts_train, x_train, 10)\n",
    "x_dev_pruned, _ = preproc.prune_vocabulary(counts_train, x_dev, 10)\n",
    "x_test_pruned, _ = preproc.prune_vocabulary(counts_train, x_test, 10)"
   ]
  },
  {
   "cell_type": "code",
   "execution_count": 24,
   "metadata": {},
   "outputs": [
    {
     "data": {
      "text/plain": [
       "4876"
      ]
     },
     "execution_count": 24,
     "metadata": {},
     "output_type": "execute_result"
    }
   ],
   "source": [
    "len(vocab)"
   ]
  },
  {
   "cell_type": "code",
   "execution_count": 25,
   "metadata": {},
   "outputs": [
    {
     "name": "stdout",
     "output_type": "stream",
     "text": [
      "orig pruned\n",
      "88 79\n",
      "187 176\n"
     ]
    }
   ],
   "source": [
    "print(\"orig\",\"pruned\")\n",
    "print(len(x_dev[94]), len(x_dev_pruned[94]))\n",
    "print(sum(x_dev[94].values()), sum(x_dev_pruned[94].values()))"
   ]
  },
  {
   "cell_type": "markdown",
   "metadata": {},
   "source": [
    "# 2. Linear classification\n",
    "\n",
    "\n",
    "Now, you'll implement a simple linear classification rule, $\\hat{y}=\\text{argmax}_y \\theta^T f(x,y)$\n",
    "\n",
    "The functions you write in this section will be used for all the classifiers in the rest of the assignment."
   ]
  },
  {
   "cell_type": "code",
   "execution_count": 27,
   "metadata": {},
   "outputs": [],
   "source": [
    "from hw2_utils import clf_base\n",
    "reload(clf_base);\n",
    "\n",
    "from hw2_utils import constants\n",
    "reload(constants);"
   ]
  },
  {
   "cell_type": "markdown",
   "metadata": {},
   "source": [
    "The first step is to write a feature extraction function. A convenient way to represent a feature function vector $f(x,y)$ for a document $x$ is as a dict, where each value $j$ is the value of the $j$th feature $x_j$ (counts of word occurrence, or whatever it is that you're using as features), and the keys are tuples $(y, x_j)$ indicating _which_ feature-class relationship is being stored.\n",
    "\n",
    "* **Deliverable 2.1**: Implement the function `make_feature_vector` in `clf_base.py`\n",
    "* **Test**: `tests/test_classifier.py:test_d2_1_featvec`\n",
    "\n",
    "_Note_ that you'll also want to make sure to include the bias/offset feature as well, from `hw2_utils.constants.OFFSET`.\n",
    "\n",
    "Desired output is shown below:"
   ]
  },
  {
   "cell_type": "code",
   "execution_count": 28,
   "metadata": {
    "scrolled": true
   },
   "outputs": [
    {
     "data": {
      "text/plain": [
       "{('1980s', 'test'): 1, ('1980s', 'case'): 2, ('1980s', '**OFFSET**'): 1}"
      ]
     },
     "execution_count": 28,
     "metadata": {},
     "output_type": "execute_result"
    }
   ],
   "source": [
    "fv = clf_base.make_feature_vector({'test':1, 'case':2}, '1980s')\n",
    "fv"
   ]
  },
  {
   "cell_type": "markdown",
   "metadata": {},
   "source": [
    "What is the entire set of labels?"
   ]
  },
  {
   "cell_type": "code",
   "execution_count": 29,
   "metadata": {},
   "outputs": [
    {
     "data": {
      "text/plain": [
       "{'1980s', '1990s', '2000s', 'pre-1980'}"
      ]
     },
     "execution_count": 29,
     "metadata": {},
     "output_type": "execute_result"
    }
   ],
   "source": [
    "labels = set(y_train) # all possible labels\n",
    "labels"
   ]
  },
  {
   "cell_type": "markdown",
   "metadata": {},
   "source": [
    "Now, implement the prediction rule $\\hat{y}=\\text{argmax}_y \\theta^T f(x,y)$.\n",
    "\n",
    "* **Deliverable 2.2**: Implement the function `predict` in `clf_base.py`.\n",
    "* **Test**: `tests/test_classifier.py:test_d2_2_predict`\n",
    "\n",
    "The output should be:\n",
    "\n",
    "* A predicted label\n",
    "* The scores of all labels\n",
    "\n",
    "This function will be called a **lot**, so do try and make it fast. You don't need to do anything too over-the-top, but look for ways to avoid making your code do extra or repeated work. Remember, `%%timeit` can help you explore how different versions of your algorithm perform."
   ]
  },
  {
   "cell_type": "markdown",
   "metadata": {},
   "source": [
    "Test your function using the unit test, but also with these simple hand-crafted weights:"
   ]
  },
  {
   "cell_type": "code",
   "execution_count": 30,
   "metadata": {},
   "outputs": [],
   "source": [
    "from collections import defaultdict"
   ]
  },
  {
   "cell_type": "code",
   "execution_count": 31,
   "metadata": {},
   "outputs": [],
   "source": [
    "# weight vectors _must_ be defaultdicts as per the specification for predict()\n",
    "theta_hand = defaultdict(float, \n",
    "            {('2000s', 'money'): 0.1,\n",
    "             ('2000s', 'name'): 0.2,\n",
    "             ('1980s','tonight'): 0.1,\n",
    "             ('2000s','man'): 0.1,\n",
    "             ('1990s','fly'): 0.1,\n",
    "             ('pre-1980',constants.OFFSET): 0.1\n",
    "\n",
    "            })\n"
   ]
  },
  {
   "cell_type": "code",
   "execution_count": 32,
   "metadata": {},
   "outputs": [],
   "source": [
    "reload(clf_base);"
   ]
  },
  {
   "cell_type": "code",
   "execution_count": 33,
   "metadata": {
    "scrolled": true
   },
   "outputs": [
    {
     "ename": "TypeError",
     "evalue": "unsupported operand type(s) for +: 'Counter' and 'str'",
     "output_type": "error",
     "traceback": [
      "\u001b[1;31m---------------------------------------------------------------------------\u001b[0m",
      "\u001b[1;31mTypeError\u001b[0m                                 Traceback (most recent call last)",
      "\u001b[1;32m<ipython-input-33-e654b5e15485>\u001b[0m in \u001b[0;36m<module>\u001b[1;34m\u001b[0m\n\u001b[1;32m----> 1\u001b[1;33m \u001b[0mclf_base\u001b[0m\u001b[1;33m.\u001b[0m\u001b[0mpredict\u001b[0m\u001b[1;33m(\u001b[0m\u001b[0mx_train_pruned\u001b[0m\u001b[1;33m[\u001b[0m\u001b[1;36m0\u001b[0m\u001b[1;33m]\u001b[0m\u001b[1;33m,\u001b[0m \u001b[0mtheta_hand\u001b[0m\u001b[1;33m,\u001b[0m \u001b[0mlabels\u001b[0m\u001b[1;33m)\u001b[0m\u001b[1;33m\u001b[0m\u001b[1;33m\u001b[0m\u001b[0m\n\u001b[0m",
      "\u001b[1;32mC:\\workspace_courses\\cs562\\hw2\\hw2_utils\\clf_base.py\u001b[0m in \u001b[0;36mpredict\u001b[1;34m(base_features, weights, labels)\u001b[0m\n\u001b[0;32m     50\u001b[0m     \"\"\"\n\u001b[0;32m     51\u001b[0m \u001b[1;33m\u001b[0m\u001b[0m\n\u001b[1;32m---> 52\u001b[1;33m     \u001b[0mbf_agg\u001b[0m \u001b[1;33m=\u001b[0m \u001b[0mpreproc\u001b[0m\u001b[1;33m.\u001b[0m\u001b[0maggregate_counts\u001b[0m\u001b[1;33m(\u001b[0m\u001b[0mbase_features\u001b[0m\u001b[1;33m)\u001b[0m\u001b[1;33m\u001b[0m\u001b[1;33m\u001b[0m\u001b[0m\n\u001b[0m\u001b[0;32m     53\u001b[0m     \u001b[1;31m#bf_agg = sum(base_features, Counter())\u001b[0m\u001b[1;33m\u001b[0m\u001b[1;33m\u001b[0m\u001b[1;33m\u001b[0m\u001b[0m\n\u001b[0;32m     54\u001b[0m \u001b[1;33m\u001b[0m\u001b[0m\n",
      "\u001b[1;32mC:\\workspace_courses\\cs562\\hw2\\hw2_utils\\preproc.py\u001b[0m in \u001b[0;36maggregate_counts\u001b[1;34m(bags_of_words)\u001b[0m\n\u001b[0;32m     30\u001b[0m     \"\"\"\n\u001b[0;32m     31\u001b[0m \u001b[1;33m\u001b[0m\u001b[0m\n\u001b[1;32m---> 32\u001b[1;33m     \u001b[1;32mreturn\u001b[0m \u001b[0msum\u001b[0m\u001b[1;33m(\u001b[0m\u001b[0mbags_of_words\u001b[0m\u001b[1;33m,\u001b[0m \u001b[0mCounter\u001b[0m\u001b[1;33m(\u001b[0m\u001b[1;33m)\u001b[0m\u001b[1;33m)\u001b[0m\u001b[1;33m\u001b[0m\u001b[1;33m\u001b[0m\u001b[0m\n\u001b[0m\u001b[0;32m     33\u001b[0m \u001b[1;33m\u001b[0m\u001b[0m\n\u001b[0;32m     34\u001b[0m \u001b[1;31m# deliverable 1.3\u001b[0m\u001b[1;33m\u001b[0m\u001b[1;33m\u001b[0m\u001b[1;33m\u001b[0m\u001b[0m\n",
      "\u001b[1;31mTypeError\u001b[0m: unsupported operand type(s) for +: 'Counter' and 'str'"
     ]
    }
   ],
   "source": [
    "clf_base.predict(x_train_pruned[0], theta_hand, labels)"
   ]
  },
  {
   "cell_type": "markdown",
   "metadata": {},
   "source": [
    "Now, let's see how well these weights work, by evaluating on the dev set. We'll be using raw classification accuracy here, though that is often not the best choice of metric."
   ]
  },
  {
   "cell_type": "code",
   "execution_count": null,
   "metadata": {},
   "outputs": [],
   "source": [
    "from hw2_utils import evaluation"
   ]
  },
  {
   "cell_type": "code",
   "execution_count": null,
   "metadata": {},
   "outputs": [],
   "source": [
    "y_hat = clf_base.predict_all(x_dev_pruned, theta_hand, labels)\n",
    "print(evaluation.acc(y_hat, y_dev))"
   ]
  },
  {
   "cell_type": "markdown",
   "metadata": {},
   "source": [
    "Just how imbalanced _are_ our classes, anyway?"
   ]
  },
  {
   "cell_type": "code",
   "execution_count": null,
   "metadata": {
    "scrolled": false
   },
   "outputs": [],
   "source": [
    "np.unique(y_dev, return_counts=True)"
   ]
  },
  {
   "cell_type": "markdown",
   "metadata": {},
   "source": [
    "In the case of our `dev` data split, there is certainly some class imbalance, though it is not nearly as severe as is often the case in text classification. Using straight-up classification accuracy is not _totally_ unreasonable in this case, though one should make sure to compare it against \"random choice\" as well as \"most-frequent class\" baselines."
   ]
  },
  {
   "cell_type": "markdown",
   "metadata": {},
   "source": [
    "# 3. Naïve Bayes\n",
    "\n",
    "You'll now implement a Naïve Bayes classifier, as described in the reading. For a more detailed implementation guide, consult chapter 2 of the Eisenstein notes."
   ]
  },
  {
   "cell_type": "code",
   "execution_count": 1,
   "metadata": {},
   "outputs": [
    {
     "ename": "NameError",
     "evalue": "name 'reload' is not defined",
     "output_type": "error",
     "traceback": [
      "\u001b[1;31m---------------------------------------------------------------------------\u001b[0m",
      "\u001b[1;31mNameError\u001b[0m                                 Traceback (most recent call last)",
      "\u001b[1;32m<ipython-input-1-0b4c46f768a8>\u001b[0m in \u001b[0;36m<module>\u001b[1;34m\u001b[0m\n\u001b[0;32m      1\u001b[0m \u001b[1;32mfrom\u001b[0m \u001b[0mhw2_utils\u001b[0m \u001b[1;32mimport\u001b[0m \u001b[0mnaive_bayes\u001b[0m\u001b[1;33m\u001b[0m\u001b[1;33m\u001b[0m\u001b[0m\n\u001b[1;32m----> 2\u001b[1;33m \u001b[0mreload\u001b[0m\u001b[1;33m(\u001b[0m\u001b[0mnaive_bayes\u001b[0m\u001b[1;33m)\u001b[0m\u001b[1;33m;\u001b[0m\u001b[1;33m\u001b[0m\u001b[1;33m\u001b[0m\u001b[0m\n\u001b[0m",
      "\u001b[1;31mNameError\u001b[0m: name 'reload' is not defined"
     ]
    }
   ],
   "source": [
    "from hw2_utils import naive_bayes\n",
    "reload(naive_bayes);"
   ]
  },
  {
   "cell_type": "markdown",
   "metadata": {},
   "source": [
    "* **Deliverable 3.1**: (warmup) implement `get_corpus_counts` in `naive_bayes.py`.\n",
    "* **Test**: `tests/test_classifier.py:test_d3_1_corpus_counts`\n",
    "\n",
    "This function should compute unigram word frequency counts for a given label:"
   ]
  },
  {
   "cell_type": "code",
   "execution_count": 278,
   "metadata": {},
   "outputs": [
    {
     "name": "stdout",
     "output_type": "stream",
     "text": [
      "50\n",
      "14\n"
     ]
    }
   ],
   "source": [
    "eighties_counts = naive_bayes.get_corpus_counts(x_train_pruned, y_train, '1980s');\n",
    "print(eighties_counts['today'])\n",
    "print(eighties_counts['yesterday'])"
   ]
  },
  {
   "cell_type": "markdown",
   "metadata": {},
   "source": [
    "* **Deliverable 3.2**: Implement `estimate_pxy` in `naive_bayes.py`\n",
    "* **Test**: `tests/test_classifier.py:test_d3_2_pxy`\n",
    "\n",
    "This function should compute the _smoothed_ multinomial distribution $\\log P(x|y)$ for a given label $y$.\n",
    "\n",
    "_Hint_: Note that this function takes the entire vocabulary as one of its arguments. You'll need to assign a probability even for words that do not appear in documents with label $y$, if they are in-vocabulary.\n",
    "\n",
    "You can use `get_corpus_counts` in this function if you want to, but you don't have to."
   ]
  },
  {
   "cell_type": "code",
   "execution_count": 279,
   "metadata": {},
   "outputs": [],
   "source": [
    "log_pxy = naive_bayes.estimate_pxy(x_train_pruned, y_train, \"1980s\", 0.1, vocab)"
   ]
  },
  {
   "cell_type": "markdown",
   "metadata": {},
   "source": [
    "Your probabilities must sum to one! (Or very close- [floating point roundoff](https://en.wikipedia.org/wiki/Round-off_error#Roundoff_error_caused_by_floating-point_arithmetic), dontcha know)."
   ]
  },
  {
   "cell_type": "code",
   "execution_count": 280,
   "metadata": {
    "scrolled": false
   },
   "outputs": [
    {
     "data": {
      "text/plain": [
       "0.9999999999999512"
      ]
     },
     "execution_count": 280,
     "metadata": {},
     "output_type": "execute_result"
    }
   ],
   "source": [
    "sum(np.exp(list(log_pxy.values())))"
   ]
  },
  {
   "cell_type": "markdown",
   "metadata": {},
   "source": [
    "Following Emily Bender's wisdom, let's Look 👏 At 👏 Our 👏 Data!\n",
    "\n",
    "We can examine the log-probabilities of the words from our hand-tuned weights:"
   ]
  },
  {
   "cell_type": "code",
   "execution_count": 281,
   "metadata": {
    "scrolled": false
   },
   "outputs": [
    {
     "data": {
      "text/plain": [
       "{'money': -7.689562807416732,\n",
       " 'name': -7.568324713816848,\n",
       " 'tonight': -6.216637557007502,\n",
       " 'man': -6.63187694645784,\n",
       " 'fly': -8.636944126360918,\n",
       " '**OFFSET**': 0.0}"
      ]
     },
     "execution_count": 281,
     "metadata": {},
     "output_type": "execute_result"
    }
   ],
   "source": [
    "{word:log_pxy[word] for (_, word), weight in theta_hand.items() if weight > 0}"
   ]
  },
  {
   "cell_type": "markdown",
   "metadata": {},
   "source": [
    "What happens if we adjust our smoothing?"
   ]
  },
  {
   "cell_type": "code",
   "execution_count": 282,
   "metadata": {},
   "outputs": [],
   "source": [
    "log_pxy_smoother = naive_bayes.estimate_pxy(x_train_pruned, y_train, \"1980s\",10, vocab)"
   ]
  },
  {
   "cell_type": "code",
   "execution_count": 283,
   "metadata": {},
   "outputs": [
    {
     "data": {
      "text/plain": [
       "{'money': -7.80136351255418,\n",
       " 'name': -7.6911603724205655,\n",
       " 'tonight': -6.405407240522552,\n",
       " 'man': -6.808471387093179,\n",
       " 'fly': -8.607451104294721,\n",
       " '**OFFSET**': 0.0}"
      ]
     },
     "execution_count": 283,
     "metadata": {},
     "output_type": "execute_result"
    }
   ],
   "source": [
    "{word:log_pxy_smoother[word] for (_, word), weight in theta_hand.items() if weight > 0}"
   ]
  },
  {
   "cell_type": "markdown",
   "metadata": {},
   "source": [
    "These are all relatively frequent words, and so their smoothed estimates aren't really all that different. What if we look at a less-common word?"
   ]
  },
  {
   "cell_type": "code",
   "execution_count": 284,
   "metadata": {},
   "outputs": [
    {
     "name": "stdout",
     "output_type": "stream",
     "text": [
      "2\n",
      "-11.481299646970376\n",
      "-9.951185850995815\n"
     ]
    }
   ],
   "source": [
    "print(eighties_counts['smiles'])\n",
    "print(log_pxy['smiles'])\n",
    "print(log_pxy_smoother['smiles'])"
   ]
  },
  {
   "cell_type": "markdown",
   "metadata": {},
   "source": [
    "This is a much larger change- remember, we're in log-space!\n",
    "\n",
    "You are now ready to...\n",
    "\n",
    "* **Deliverable 3.3**: Implement `estimate_nb` in `naive_bayes.py`. This function will estimate label-specific weights ($\\theta_{y,j}$ in the notation used by Eisenstein) in the same data format as the weights in `theta_hand` above. \n",
    "* **Test**: `tests/test_classifier.py:test_d3_3a_nb`\n",
    "\n",
    "* The goal is that the score given by `clf_base.predict` is equal to the joint probability $P(x,y)$ as described in Chapter 2 of the Eisenstein text.\n",
    "* Remember, the offset feature will act as the _prior_ $\\log P(y)$, and should not be smoothed\n",
    "\n",
    "_Tip_: Recall that each weight is supposed to represent the conditional probability of a particular word occurring in a given class."
   ]
  },
  {
   "cell_type": "code",
   "execution_count": 285,
   "metadata": {
    "scrolled": true
   },
   "outputs": [],
   "source": [
    "theta_nb = naive_bayes.estimate_nb(x_train_pruned, y_train, 0.1)"
   ]
  },
  {
   "cell_type": "code",
   "execution_count": 286,
   "metadata": {},
   "outputs": [
    {
     "data": {
      "text/plain": [
       "('2000s',\n",
       " {'2000s': -2099.2474010561377,\n",
       "  'pre-1980': -2136.8348423968027,\n",
       "  '1980s': -2153.019927798135,\n",
       "  '1990s': -2125.1966084804503})"
      ]
     },
     "execution_count": 286,
     "metadata": {},
     "output_type": "execute_result"
    }
   ],
   "source": [
    "clf_base.predict(x_train_pruned[155], theta_nb, labels)"
   ]
  },
  {
   "cell_type": "code",
   "execution_count": 287,
   "metadata": {},
   "outputs": [
    {
     "name": "stdout",
     "output_type": "stream",
     "text": [
      "0.46444444444444444\n"
     ]
    }
   ],
   "source": [
    "y_hat = clf_base.predict_all(x_dev_pruned, theta_nb, labels)\n",
    "print(evaluation.acc(y_hat, y_dev))"
   ]
  },
  {
   "cell_type": "markdown",
   "metadata": {},
   "source": [
    "As part of the submission of this assignment, you will provide me with your classifier's predictions, which I will validate as part of grading. There are utility functions in `hw2_utils.evaluation` that will automatically produce output in the required format:"
   ]
  },
  {
   "cell_type": "code",
   "execution_count": 288,
   "metadata": {},
   "outputs": [],
   "source": [
    "evaluation.write_predictions(y_hat, 'nb-dev.preds')"
   ]
  },
  {
   "cell_type": "markdown",
   "metadata": {},
   "source": [
    "There is also a function to read them back in:"
   ]
  },
  {
   "cell_type": "code",
   "execution_count": 289,
   "metadata": {},
   "outputs": [
    {
     "data": {
      "text/plain": [
       "0.46444444444444444"
      ]
     },
     "execution_count": 289,
     "metadata": {},
     "output_type": "execute_result"
    }
   ],
   "source": [
    "y_hat_dev = evaluation.read_predictions('nb-dev.preds')\n",
    "evaluation.acc(y_hat_dev, y_dev)"
   ]
  },
  {
   "cell_type": "markdown",
   "metadata": {},
   "source": [
    "Use this to produce your predicted classifications on the test set:"
   ]
  },
  {
   "cell_type": "code",
   "execution_count": 290,
   "metadata": {},
   "outputs": [],
   "source": [
    "y_hat_test = clf_base.predict_all(x_test_pruned, theta_nb, labels)\n",
    "evaluation.write_predictions(y_hat_test, 'nb-test.preds')"
   ]
  },
  {
   "cell_type": "markdown",
   "metadata": {},
   "source": [
    "Up to now, we have set our smoothing parameter to 0.1. As we saw earlier, though, different amounts of smoothing can have big effects on our learned model weights.\n",
    "\n",
    "* **Deliverable 3.4**: Implement the `find_best_smoother` function in `naive_bayes.py`, which will grid search over a range of smoothing factors and find the optimal one.\n",
    "* **Test**: `tests/test_classifier.py:test_d3_4a_nb_best`\n",
    "\n",
    "Your function should try at least the values set in the `vals` variable below. Once you have obtained the optimal smoothing value, export your predictions on the test subset."
   ]
  },
  {
   "cell_type": "code",
   "execution_count": 291,
   "metadata": {},
   "outputs": [
    {
     "name": "stdout",
     "output_type": "stream",
     "text": [
      "[1.00000000e-03 3.16227766e-03 1.00000000e-02 3.16227766e-02\n",
      " 1.00000000e-01 3.16227766e-01 1.00000000e+00 3.16227766e+00\n",
      " 1.00000000e+01 3.16227766e+01 1.00000000e+02]\n"
     ]
    }
   ],
   "source": [
    "vals = np.logspace(-3, 2, 11)\n",
    "print(vals)"
   ]
  },
  {
   "cell_type": "code",
   "execution_count": 292,
   "metadata": {},
   "outputs": [],
   "source": [
    "reload(naive_bayes);"
   ]
  },
  {
   "cell_type": "code",
   "execution_count": 293,
   "metadata": {
    "scrolled": true
   },
   "outputs": [],
   "source": [
    "best_smoother, scores = naive_bayes.find_best_smoother(\n",
    "    x_train_pruned, y_train, x_dev_pruned, y_dev, vals\n",
    ")"
   ]
  },
  {
   "cell_type": "code",
   "execution_count": 294,
   "metadata": {},
   "outputs": [
    {
     "data": {
      "text/plain": [
       "Text(0, 0.5, 'dev set accuracy')"
      ]
     },
     "execution_count": 294,
     "metadata": {},
     "output_type": "execute_result"
    },
    {
     "data": {
      "image/png": "[encoded data removed]",
      "text/plain": [
       "<Figure size 432x288 with 1 Axes>"
      ]
     },
     "metadata": {
      "needs_background": "light"
     },
     "output_type": "display_data"
    }
   ],
   "source": [
    "plt.semilogx(list(scores.keys()), list(scores.values()), 'o-');\n",
    "plt.xlabel('smoothing factor')\n",
    "plt.ylabel('dev set accuracy')"
   ]
  },
  {
   "cell_type": "markdown",
   "metadata": {},
   "source": [
    "**Reflect**:\n",
    "\n",
    "* What might explain the dramatic drop in accuracy when the smoothing increases from 10 to 30?\n",
    "* Beore you check, predict whether hte accuracy will continue to significantly drop if you increase it to 100000.\n",
    "\n",
    "End this section by writing your best predictions out:"
   ]
  },
  {
   "cell_type": "code",
   "execution_count": 295,
   "metadata": {},
   "outputs": [],
   "source": [
    "theta_nb_best = naive_bayes.estimate_nb(x_train_pruned, y_train, best_smoother)\n",
    "y_hat_nb_best = clf_base.predict_all(x_test_pruned, theta_nb_best, labels)\n",
    "evaluation.write_predictions(y_hat_nb_best, 'nb-best-test.preds')"
   ]
  },
  {
   "cell_type": "markdown",
   "metadata": {},
   "source": [
    "# 4. Feature Engineering\n",
    "\n",
    "You can add non-BoW features to your model (in fact, we already have: our bias/offset feature). In order to facilitate additional exploration along these lines, we'll need to change how we're calling our `predict()` function. Up to now, we've been passing it a `Counter` object; now we need to turn that `Counter` into a dictionary, so we can add additional arbitrary features.\n",
    "\n",
    "## 4.1 Example feature: Token-Type Ratio\n",
    "\n",
    "One particularly useful additional feature is the token-type ratio:\n",
    "\n",
    "$$ \\frac{\\text{length of song in tokens}}{\\text{number of distinct types}} = \\frac{\\sum_m w_m}{\\sum_m \\delta(w_m > 0)} $$\n",
    "\n",
    "Intuititively, the more repetitive a song is, the higher its token-type ratio will be. For empty songs (length of zero tokens), this feature should be 0.\n",
    "\n",
    "* **Deliverable 7.1**: Implement `get_token_type_ratio` in `features.py`\n",
    "* **Test**: `tests/test_features.py:test_d4_1_token_type_ratio`"
   ]
  },
  {
   "cell_type": "code",
   "execution_count": 296,
   "metadata": {},
   "outputs": [],
   "source": [
    "from hw2_utils import features\n",
    "reload(features);"
   ]
  },
  {
   "cell_type": "markdown",
   "metadata": {},
   "source": [
    "Token-type ratio for the first five songs:"
   ]
  },
  {
   "cell_type": "code",
   "execution_count": 297,
   "metadata": {
    "scrolled": true
   },
   "outputs": [
    {
     "data": {
      "text/plain": [
       "[5.083333333333333,\n",
       " 2.6,\n",
       " 1.9113924050632911,\n",
       " 2.318840579710145,\n",
       " 6.188679245283019]"
      ]
     },
     "execution_count": 297,
     "metadata": {},
     "output_type": "execute_result"
    }
   ],
   "source": [
    "[features.get_token_type_ratio(x_train_pruned[i]) for i in range(5)]"
   ]
  },
  {
   "cell_type": "markdown",
   "metadata": {},
   "source": [
    "## 4.2 Binning"
   ]
  },
  {
   "cell_type": "markdown",
   "metadata": {},
   "source": [
    "Once we have a token-type ratio, we must include it in our feature vectors. A good way to do that is to _bin_ the feature into several bins:\n",
    "\n",
    "$\\{[(0,1),[1,2),[2,3),[3,4),[4,5),[5,6),[6,\\infty)\\}$\n",
    "\n",
    "In other words, for each instance, we will now have seven additional pseudo-features, one per bin. Exactly one will have the value of 1, the rest will be set to zero. Look in `hw2_utils.constants` for feature names for these bins.\n",
    "\n",
    "* **Deliverable 4.2**: Implement `concat_ttr_binned_feaures` in `features.py`\n",
    "* **Test**: `tests/test_features.py:test_d4_2_discretize`"
   ]
  },
  {
   "cell_type": "code",
   "execution_count": 298,
   "metadata": {},
   "outputs": [],
   "source": [
    "reload(features);\n",
    "reload(constants);"
   ]
  },
  {
   "cell_type": "code",
   "execution_count": 299,
   "metadata": {},
   "outputs": [
    {
     "data": {
      "text/plain": [
       "{'back': 37,\n",
       " 'i': 34,\n",
       " 'im': 22,\n",
       " 'in': 22,\n",
       " 'love': 20,\n",
       " 'again': 15,\n",
       " 'right': 12,\n",
       " 'every': 10,\n",
       " 'time': 10,\n",
       " 'around': 7,\n",
       " 'turn': 6,\n",
       " 'seems': 6,\n",
       " 'like': 6,\n",
       " 'when': 5,\n",
       " 'me': 5,\n",
       " 'just': 5,\n",
       " 'alright': 5,\n",
       " 'move': 4,\n",
       " 'lose': 4,\n",
       " 'look': 4,\n",
       " 'and': 4,\n",
       " 'get': 3,\n",
       " 'mixed': 3,\n",
       " 'emotions': 3,\n",
       " 'its': 3,\n",
       " 'dont': 3,\n",
       " 'so': 3,\n",
       " 'to': 3,\n",
       " 'cant': 3,\n",
       " 'it': 3,\n",
       " 'help': 3,\n",
       " 'my': 2,\n",
       " 'know': 2,\n",
       " 'you': 2,\n",
       " 'your': 2,\n",
       " 'want': 2,\n",
       " 'believe': 2,\n",
       " 'many': 2,\n",
       " 'oh': 2,\n",
       " 'the': 1,\n",
       " 'way': 1,\n",
       " 'feelings': 1,\n",
       " 'flow': 1,\n",
       " 'excuse': 1,\n",
       " 'only': 1,\n",
       " 'human': 1,\n",
       " 'sometimes': 1,\n",
       " 'put': 1,\n",
       " 'arms': 1,\n",
       " 'feel': 1,\n",
       " 'satisfied': 1,\n",
       " 'forever': 1,\n",
       " 'decide': 1,\n",
       " 'now': 1,\n",
       " 'lover': 1,\n",
       " 'hard': 1,\n",
       " 'be': 1,\n",
       " 'a': 1,\n",
       " 'friend': 1,\n",
       " 'thats': 1,\n",
       " 'something': 1,\n",
       " 'else': 1,\n",
       " 'guess': 1,\n",
       " 'ever': 1,\n",
       " 'end': 1,\n",
       " 'that': 1,\n",
       " 'jones': 1,\n",
       " 'coming': 1,\n",
       " 'down': 1,\n",
       " 'yeah': 1,\n",
       " 'yes': 1,\n",
       " 'do': 1,\n",
       " '**TTR_0_1**': 0,\n",
       " '**TTR_1_2**': 0,\n",
       " '**TTR_2_3**': 0,\n",
       " '**TTR_3_4**': 0,\n",
       " '**TTR_4_5**': 1,\n",
       " '**TTR_5_6**': 0,\n",
       " '**TTR_6_INF**': 0}"
      ]
     },
     "execution_count": 299,
     "metadata": {},
     "output_type": "execute_result"
    }
   ],
   "source": [
    "features.concat_ttr_binned_features(dict(x_dev_pruned[0]))"
   ]
  },
  {
   "cell_type": "markdown",
   "metadata": {},
   "source": [
    "## 4.3 Does it affect performance?\n",
    "\n",
    "If we use this new feature in our prediction, what happens?"
   ]
  },
  {
   "cell_type": "code",
   "execution_count": 300,
   "metadata": {},
   "outputs": [],
   "source": [
    "x_train_pruned_with_ttr = [features.concat_ttr_binned_features(dict(x_i)) \n",
    "                           for x_i in x_train_pruned]\n",
    "\n",
    "theta_nb_ttr = naive_bayes.estimate_nb(x_train_pruned_with_ttr, y_train, 0.1)"
   ]
  },
  {
   "cell_type": "code",
   "execution_count": 301,
   "metadata": {
    "scrolled": true
   },
   "outputs": [
    {
     "name": "stdout",
     "output_type": "stream",
     "text": [
      "0.4711111111111111\n"
     ]
    }
   ],
   "source": [
    "x_dev_pruned_with_ttr = [features.concat_ttr_binned_features(dict(x_i)) \n",
    "                           for x_i in x_dev_pruned]\n",
    "\n",
    "y_hat_ttr = clf_base.predict_all(x_dev_pruned_with_ttr, theta_nb_ttr, labels)\n",
    "print(evaluation.acc(y_hat_ttr, y_dev))"
   ]
  },
  {
   "cell_type": "markdown",
   "metadata": {},
   "source": [
    "Looks like that feature got us a small performance bump!\n",
    "\n",
    "_Reflect_: What are some additional features that might help?"
   ]
  },
  {
   "cell_type": "markdown",
   "metadata": {},
   "source": [
    "# 5. Logistic Regression\n",
    "\n",
    "In practice, it is rare to build the entire feature-generation pipeline entirely from scratch as we have thus far in this assignment. Scikit-Learn  (`sklearn`) is a massive Python library with many useful off-the-shelf machine learning models, as well as utility functions for feature extraction and transformation. In this section, you will experiment with an off-the-shelf implementation of logistic regression (which we may revisit in more detail in a future assignment).\n",
    "\n",
    "A `sklearn` workflow typically starts by using one of the automated feature extraction classes. The equivalent to the simple count-based bag-of-words that we've been using thus far is [`sklearn.feature_extraction.text.CountVectorizer`](https://scikit-learn.org/stable/modules/generated/sklearn.feature_extraction.text.CountVectorizer.html#sklearn.feature_extraction.text.CountVectorizer). There are several text feature extraction classes, and they have a variety of options in terms of tokenization, punctuation handling, etc.- consult the documentation!\n",
    "\n",
    "This part of the assignment will require much less coding, and is more exploratory."
   ]
  },
  {
   "cell_type": "code",
   "execution_count": 302,
   "metadata": {},
   "outputs": [],
   "source": [
    "from sklearn.feature_extraction.text import CountVectorizer"
   ]
  },
  {
   "cell_type": "markdown",
   "metadata": {},
   "source": [
    "If we already know what we want our vocabulary to be, we can initialize it with an iterable of strings; otherwise, it can build its vocabulary automatically (using its `fit()` method). In this case, we will initialize it to use our already-pruned vocabulary:"
   ]
  },
  {
   "cell_type": "code",
   "execution_count": 303,
   "metadata": {},
   "outputs": [
    {
     "data": {
      "text/plain": [
       "<5x4875 sparse matrix of type '<class 'numpy.int64'>'\n",
       "\twith 377 stored elements in Compressed Sparse Row format>"
      ]
     },
     "execution_count": 303,
     "metadata": {},
     "output_type": "execute_result"
    }
   ],
   "source": [
    "count_vec = CountVectorizer(vocabulary=vocab)\n",
    "\n",
    "count_vec.transform(df_train.Lyrics[:5])"
   ]
  },
  {
   "cell_type": "code",
   "execution_count": 304,
   "metadata": {},
   "outputs": [],
   "source": [
    "X_mat_dev = count_vec.transform(df_dev.Lyrics)\n",
    "X_mat_train = count_vec.transform(df_train.Lyrics)\n",
    "X_mat_test = count_vec.transform(df_test.Lyrics)"
   ]
  },
  {
   "cell_type": "markdown",
   "metadata": {},
   "source": [
    "Once our data is in the `scipy` sparse matrix format, we can use any of the built-in `sklearn` classifiers. For example, naïve Bayes:"
   ]
  },
  {
   "cell_type": "code",
   "execution_count": 305,
   "metadata": {},
   "outputs": [],
   "source": [
    "from sklearn.naive_bayes import MultinomialNB"
   ]
  },
  {
   "cell_type": "markdown",
   "metadata": {},
   "source": [
    "One nice thing about `sklearn` is that all of the classifiers follow a common API:"
   ]
  },
  {
   "cell_type": "code",
   "execution_count": 306,
   "metadata": {},
   "outputs": [
    {
     "data": {
      "text/plain": [
       "MultinomialNB(alpha=0.1, class_prior=None, fit_prior=True)"
      ]
     },
     "execution_count": 306,
     "metadata": {},
     "output_type": "execute_result"
    }
   ],
   "source": [
    "nb = MultinomialNB(alpha=0.1)\n",
    "nb.fit(X_mat_train, df_train.Era)"
   ]
  },
  {
   "cell_type": "code",
   "execution_count": 307,
   "metadata": {},
   "outputs": [],
   "source": [
    "y_hat_dev = nb.predict(X_mat_dev)"
   ]
  },
  {
   "cell_type": "markdown",
   "metadata": {},
   "source": [
    "Another nice thing: `sklearn` has many built-in utility functions for evaluation classifier performance:"
   ]
  },
  {
   "cell_type": "code",
   "execution_count": 308,
   "metadata": {},
   "outputs": [],
   "source": [
    "from sklearn.metrics import accuracy_score, confusion_matrix, classification_report"
   ]
  },
  {
   "cell_type": "code",
   "execution_count": 309,
   "metadata": {},
   "outputs": [
    {
     "data": {
      "text/plain": [
       "0.46"
      ]
     },
     "execution_count": 309,
     "metadata": {},
     "output_type": "execute_result"
    }
   ],
   "source": [
    "accuracy_score(y_hat_dev, df_dev.Era)"
   ]
  },
  {
   "cell_type": "markdown",
   "metadata": {},
   "source": [
    "This is exactly the same accuracy as we saw with our hand-rolled implementation!\n",
    "\n",
    "We can also print confusion matrices, and more detailed classification output:"
   ]
  },
  {
   "cell_type": "code",
   "execution_count": 310,
   "metadata": {},
   "outputs": [
    {
     "data": {
      "text/plain": [
       "array([[54, 33, 28, 34],\n",
       "       [16, 25, 16, 22],\n",
       "       [13, 25, 68,  8],\n",
       "       [21, 12, 15, 60]])"
      ]
     },
     "execution_count": 310,
     "metadata": {},
     "output_type": "execute_result"
    }
   ],
   "source": [
    "confusion_matrix(y_hat_dev, df_dev.Era)"
   ]
  },
  {
   "cell_type": "code",
   "execution_count": 311,
   "metadata": {},
   "outputs": [
    {
     "name": "stdout",
     "output_type": "stream",
     "text": [
      "              precision    recall  f1-score   support\n",
      "\n",
      "       1980s       0.52      0.36      0.43       149\n",
      "       1990s       0.26      0.32      0.29        79\n",
      "       2000s       0.54      0.60      0.56       114\n",
      "    pre-1980       0.48      0.56      0.52       108\n",
      "\n",
      "   micro avg       0.46      0.46      0.46       450\n",
      "   macro avg       0.45      0.46      0.45       450\n",
      "weighted avg       0.47      0.46      0.46       450\n",
      "\n"
     ]
    }
   ],
   "source": [
    "print(classification_report(y_hat_dev, df_dev.Era))"
   ]
  },
  {
   "cell_type": "code",
   "execution_count": 329,
   "metadata": {},
   "outputs": [],
   "source": [
    "from hw2_utils import clf_sklearn\n",
    "reload(clf_sklearn);"
   ]
  },
  {
   "cell_type": "markdown",
   "metadata": {},
   "source": [
    "Next, explore the multinomial logistic regression classifier in `sklearn.linear_model.LogisticRegression`. Pay attention \n",
    "\n",
    "* **Deliverable 5.1**: Implement `train_logistic_regression` in `clf_sklearn.py`\n",
    "* **Test**: `tests/test_clf_sklearn.py:test_d5_1_train_logistic`\n",
    "\n",
    "What is the classification accuracy for this classifier using bag-of-words features?"
   ]
  },
  {
   "cell_type": "markdown",
   "metadata": {},
   "source": [
    "It is very common to transform raw count features before using them as input into a classifier. One important transformation is _Term Frequency/Inverse Document Frequency_ (TF/IDF), which attempts to normalize for the fact that certain words have inflated raw counts because they are more commonly used across all documents (\"the\" is a good example).\n",
    "\n",
    "`sklearn` has a [`sklearn.feature_extraction.text.TfidfTransformer`](https://scikit-learn.org/stable/modules/generated/sklearn.feature_extraction.text.TfidfTransformer.html#sklearn.feature_extraction.text.TfidfTransformer) class, which can transform a count matrix producd using the `CountVectorizer` class we used above. (There is also a `TfidfVectorizer` that can do the counting and transformation in one step).\n",
    "\n",
    "Adjust your model to use TF/IDF-adjusted word counts. Note that, just as we earlier had to \"pin\" our vocabulary to that used in the training set, we need to first _fit_ the transformer- in other words, tell it which document frequencies to use. You'll want to make sure those are consistent across train/dev/test splits.\n",
    "\n",
    "* **Deliverable 5.2**: Implement `transform_tf_idf` in `clf_sklearn.py`, and use it to train and evaluate a new logistic regression model uing the transformed counts.\n",
    "* **Test**: `tests/test_clf_sklearn.py:test_d5_2_tf_idf`\n",
    "\n",
    "_Reflect_: What happens to the classification accuracy of the logistic regression model using adjusted feature counts?"
   ]
  },
  {
   "cell_type": "code",
   "execution_count": 331,
   "metadata": {},
   "outputs": [],
   "source": [
    "count_vec = CountVectorizer(vocabulary=vocab)\n",
    "X_train_counts = count_vec.transform(df_train.Lyrics)\n",
    "X_dev_counts = count_vec.transform(df_dev.Lyrics)\n",
    "X_test_counts = count_vec.transform(df_test.Lyrics)\n",
    "(train_tfidf, dev_tfidf, test_dfidf), tf_transformer = clf_sklearn.transform_tf_idf(X_train_counts, X_dev_counts, X_test_counts)"
   ]
  },
  {
   "cell_type": "markdown",
   "metadata": {},
   "source": [
    "You can ask a `Vectorizer` for an ordered list of feature labels:"
   ]
  },
  {
   "cell_type": "code",
   "execution_count": 349,
   "metadata": {},
   "outputs": [
    {
     "data": {
      "text/plain": [
       "['you', 'i', 'the', 'to', 'and']"
      ]
     },
     "execution_count": 349,
     "metadata": {},
     "output_type": "execute_result"
    }
   ],
   "source": [
    "count_vec.get_feature_names()[:5] # list just the first five features"
   ]
  },
  {
   "cell_type": "code",
   "execution_count": 339,
   "metadata": {
    "scrolled": true
   },
   "outputs": [
    {
     "data": {
      "text/plain": [
       "array([[2, 0, 0, ..., 0, 0, 0]])"
      ]
     },
     "execution_count": 339,
     "metadata": {},
     "output_type": "execute_result"
    }
   ],
   "source": [
    "short_song = count_vec.transform([\"you and me and you\"])\n",
    "short_song.toarray() # note the value of feature 0 (\"you\"):"
   ]
  },
  {
   "cell_type": "code",
   "execution_count": 340,
   "metadata": {
    "scrolled": true
   },
   "outputs": [
    {
     "data": {
      "text/plain": [
       "array([[1, 0, 0, ..., 0, 0, 0]])"
      ]
     },
     "execution_count": 340,
     "metadata": {},
     "output_type": "execute_result"
    }
   ],
   "source": [
    "shorter_song = count_vec.transform([\"you and me and\"])\n",
    "shorter_song.toarray()"
   ]
  },
  {
   "cell_type": "code",
   "execution_count": 347,
   "metadata": {},
   "outputs": [
    {
     "name": "stdout",
     "output_type": "stream",
     "text": [
      "0.6607231253680398\n",
      "0.4028249281653867\n"
     ]
    }
   ],
   "source": [
    "short_song_tfidf = tf_transformer.transform(short_song)\n",
    "shorter_song_tfidf = tf_transformer.transform(shorter_song)\n",
    "\n",
    "print(short_song_tfidf.toarray()[0,0])\n",
    "print(shorter_song_tfidf.toarray()[0,0])"
   ]
  },
  {
   "cell_type": "markdown",
   "metadata": {},
   "source": [
    "# The End!\n",
    "\n",
    "Run the `make_submission.sh` script to package up your submission, and turn in your results!"
   ]
  }
 ],
 "metadata": {
  "kernelspec": {
   "display_name": "Python 3",
   "language": "python",
   "name": "python3"
  },
  "language_info": {
   "codemirror_mode": {
    "name": "ipython",
    "version": 3
   },
   "file_extension": ".py",
   "mimetype": "text/x-python",
   "name": "python",
   "nbconvert_exporter": "python",
   "pygments_lexer": "ipython3",
   "version": "3.6.7"
  }
 },
 "nbformat": 4,
 "nbformat_minor": 2
}
